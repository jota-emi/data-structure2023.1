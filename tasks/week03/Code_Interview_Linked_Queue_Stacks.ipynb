{
  "cells": [
    {
      "cell_type": "markdown",
      "metadata": {
        "id": "TStrq7KQAEuF"
      },
      "source": [
        "# 1.0 Introduction"
      ]
    },
    {
      "cell_type": "markdown",
      "metadata": {
        "id": "7ByMLaMWDw5i"
      },
      "source": [
        "## Preface"
      ]
    },
    {
      "cell_type": "markdown",
      "metadata": {
        "id": "mbV8N-WZChw9"
      },
      "source": [
        "As you dive into the world of coding interviews, you may find it to be a notoriously difficult journey, especially when it comes to Big Techs coding interviews. However, I encourage you to embrace the challenge and not be discouraged by the initial difficulty. Preparing for the coding interview is one of the most frustrating, discouraging, and annoying things, but it can also be one of the most rewarding experiences of your career.\n",
        "\n",
        "While it is true that there are scarce materials in the internet to prepare for coding interviews, do not let this discourage you. You have the opportunity to push yourself to new heights, and with the right mindset and attitude, you can achieve your goals. Understanding complex algorithms from a book can be very difficult, but with patience and persistence, you can make progress. It may be challenging to understand long coded solutions, but remember that practice makes perfect.\n",
        "\n",
        "Moreover, many of the books available are written in C++ and Java only, but don't let that hold you back. With the right guidance and resources, you can gain a deep understanding of these languages and master the material. As your teacher, I am committed to helping you better understand the solutions in these books. We will work together to identify areas where you may need additional support and explore different resources to aid your learning.\n",
        "\n",
        "When you come across academic PDFs, or when you desperately try to find videos on YouTube, know that you are not alone. Many students face similar challenges, and it is natural to feel frustrated at times. However, I encourage you to persist and push through these challenges. Remember that every step you take is a step closer to achieving your goal.\n",
        "\n",
        "In conclusion, I urge you to embrace the challenge of coding interviews. It may be difficult at times, but the rewards are worth it. With the right mindset, attitude, and support, you can master the material and achieve your career goals. Good luck!"
      ]
    },
    {
      "cell_type": "markdown",
      "metadata": {
        "id": "H6LU4R9KCjPn"
      },
      "source": [
        "## About this notebook"
      ]
    },
    {
      "cell_type": "markdown",
      "metadata": {
        "id": "H_wrJZEXD2-v"
      },
      "source": [
        "I am excited to present to you a set of coding interview questions that are organized into three levels of difficulty: 🔥  Hard, ⚠️  Medium, and 😃 Easy. Each question comes with a description, the related data structure, tips, and an initial code with its respective unit test.\n",
        "\n",
        "While these questions may seem challenging, I encourage you to approach them with a positive attitude and an open mind. Remember that the process of solving these questions is just as important as finding the answer. Through this process, you will develop your problem-solving skills, strengthen your understanding of data structures, and improve your coding abilities.\n",
        "\n",
        "As you work on these questions, I encourage you to co-create the solutions with the help of ChatGPT. ChatGPT is a powerful tool that can provide guidance, feedback, and additional resources to support your learning journey. Don't hesitate to ask ChatGPT for help if you get stuck or need additional clarification.\n",
        "\n",
        "Additionally, I encourage you to collaborate with your classmates on these questions. Working in groups can provide a supportive learning environment where you can bounce ideas off each other, learn from different perspectives, and develop your communication skills."
      ]
    },
    {
      "cell_type": "code",
      "execution_count": 1,
      "metadata": {
        "id": "Zc9nX3WvHzI5"
      },
      "outputs": [
        {
          "name": "stdout",
          "output_type": "stream",
          "text": [
            "Requirement already satisfied: pytest in c:\\users\\j_mar\\appdata\\local\\programs\\python\\python39\\lib\\site-packages (7.1.2)\n",
            "Requirement already satisfied: pytest-sugar in c:\\users\\j_mar\\appdata\\local\\programs\\python\\python39\\lib\\site-packages (0.9.7)\n",
            "Requirement already satisfied: attrs>=19.2.0 in c:\\users\\j_mar\\appdata\\local\\programs\\python\\python39\\lib\\site-packages (from pytest) (20.3.0)\n",
            "Requirement already satisfied: py>=1.8.2 in c:\\users\\j_mar\\appdata\\local\\programs\\python\\python39\\lib\\site-packages (from pytest) (1.11.0)\n",
            "Requirement already satisfied: pluggy<2.0,>=0.12 in c:\\users\\j_mar\\appdata\\local\\programs\\python\\python39\\lib\\site-packages (from pytest) (1.0.0)\n",
            "Requirement already satisfied: colorama in c:\\users\\j_mar\\appdata\\local\\programs\\python\\python39\\lib\\site-packages (from pytest) (0.4.4)\n",
            "Requirement already satisfied: iniconfig in c:\\users\\j_mar\\appdata\\local\\programs\\python\\python39\\lib\\site-packages (from pytest) (1.1.1)\n",
            "Requirement already satisfied: tomli>=1.0.0 in c:\\users\\j_mar\\appdata\\local\\programs\\python\\python39\\lib\\site-packages (from pytest) (2.0.1)\n"
          ]
        },
        {
          "name": "stderr",
          "output_type": "stream",
          "text": [
            "WARNING: Ignoring invalid distribution -illow (c:\\users\\j_mar\\appdata\\local\\programs\\python\\python39\\lib\\site-packages)\n",
            "WARNING: Ignoring invalid distribution -illow (c:\\users\\j_mar\\appdata\\local\\programs\\python\\python39\\lib\\site-packages)\n",
            "WARNING: Ignoring invalid distribution -illow (c:\\users\\j_mar\\appdata\\local\\programs\\python\\python39\\lib\\site-packages)\n",
            "WARNING: Ignoring invalid distribution -illow (c:\\users\\j_mar\\appdata\\local\\programs\\python\\python39\\lib\\site-packages)\n",
            "WARNING: Ignoring invalid distribution -illow (c:\\users\\j_mar\\appdata\\local\\programs\\python\\python39\\lib\\site-packages)\n",
            "WARNING: Ignoring invalid distribution -illow (c:\\users\\j_mar\\appdata\\local\\programs\\python\\python39\\lib\\site-packages)\n",
            "WARNING: You are using pip version 21.3.1; however, version 23.1 is available.\n",
            "You should consider upgrading via the 'C:\\users\\j_mar\\appdata\\local\\programs\\python\\python39\\python.exe -m pip install --upgrade pip' command.\n"
          ]
        },
        {
          "name": "stdout",
          "output_type": "stream",
          "text": [
            "Requirement already satisfied: atomicwrites>=1.0 in c:\\users\\j_mar\\appdata\\local\\programs\\python\\python39\\lib\\site-packages (from pytest) (1.4.0)\n",
            "Requirement already satisfied: packaging in c:\\users\\j_mar\\appdata\\local\\programs\\python\\python39\\lib\\site-packages (from pytest) (23.1)\n",
            "Requirement already satisfied: termcolor>=2.1.0 in c:\\users\\j_mar\\appdata\\roaming\\python\\python39\\site-packages (from pytest-sugar) (2.2.0)\n"
          ]
        }
      ],
      "source": [
        "# install dependencies\n",
        "!pip install pytest pytest-sugar"
      ]
    },
    {
      "cell_type": "markdown",
      "metadata": {
        "id": "aorWT2CGD6pp"
      },
      "source": [
        "# 2.0 Warming up"
      ]
    },
    {
      "cell_type": "markdown",
      "metadata": {
        "id": "Re1GDifvELPd"
      },
      "source": [
        "## Data Structure: Arrays"
      ]
    },
    {
      "cell_type": "markdown",
      "metadata": {
        "id": "OczR4xMkEFlG"
      },
      "source": [
        "**Two Number Sum**"
      ]
    },
    {
      "cell_type": "markdown",
      "metadata": {
        "id": "55c6cbvkF5GN"
      },
      "source": [
        "Write a function that in a non-empty array of distinct integers and an integer representing a target sum. If any two numbers in the input array sum up to the target sum, the function should return then in an array, in any order. If no two numbers sum up to the target sum, the function should return an empty array.\n",
        "\n",
        "Note that the target sum has to be obtained by summing two different integers in the array; you can't add a single integer to itself in order to obtain the target sum. \n",
        "\n",
        "You can assume that there will be at most one pair of numbers summing up to the target sum."
      ]
    },
    {
      "cell_type": "code",
      "execution_count": 2,
      "metadata": {
        "id": "-jQPxpWQGg0K"
      },
      "outputs": [],
      "source": [
        "# Sample Input\n",
        "array = [3,5,-4,8,11,1,-1,6]\n",
        "target = 10\n",
        "\n",
        "# Sample Output\n",
        "# [-1, 11]"
      ]
    },
    {
      "cell_type": "markdown",
      "metadata": {
        "id": "A8ROiaImGkUn"
      },
      "source": [
        "Hints\n",
        "- Try using two for loops to sum all possible pairs of numbers in the input array. What are the time and space implications of this approach?\n",
        "- Realize that for every number X in the input array, you are essentially trying to find a corresponding number Y such that X+Y=targetSum. With two variables in this question known to you, it shouldn't be hard to solve for Y.\n",
        "- Try storing every number in a hash table, solving the equation metioned in Hint 2 for every number, and checking if the Y that you find is stored in the hash table. What are the time and space limitations of this approach?"
      ]
    },
    {
      "cell_type": "markdown",
      "metadata": {
        "id": "1vlekxD3G2Js"
      },
      "source": [
        "Optimal Space & Time Complecity\n",
        "\n",
        "- O(n) time | O(n) space - where n is the lenght of the input array"
      ]
    },
    {
      "cell_type": "code",
      "execution_count": 3,
      "metadata": {
        "colab": {
          "base_uri": "https://localhost:8080/"
        },
        "id": "eB8ALy3NHvi2",
        "outputId": "9854f043-4b39-4b89-8dbb-01cc8706d6d4"
      },
      "outputs": [
        {
          "name": "stdout",
          "output_type": "stream",
          "text": [
            "Writing test_twoNumberSum_solution.py\n"
          ]
        }
      ],
      "source": [
        "%%file test_twoNumberSum_solution.py\n",
        "import pytest\n",
        "\n",
        "def twoNumberSum(array, targetSum):\n",
        "  \"\"\"\n",
        "  Description:\n",
        "  A function that take in a non-empty array of distinct integers\n",
        "  and an integer representing a target sum. If any two numbers \n",
        "  in the input array sum up to the target sum, the function should\n",
        "  return then in an array, in any order. \n",
        "  If no two numbers sum up to the target sum, \n",
        "  the function should return an empty array.\n",
        "\n",
        "  Parameters:\n",
        "  array <list>: list of integers\n",
        "  targetSum <integer>: integer representing a target sum\n",
        "\n",
        "  Return:\n",
        "  Interger pair which sum is equal to targetSum\n",
        "  empty otherwise\n",
        "  \"\"\"\n",
        "  for i in range(len(array) - 1):\n",
        "    firstNum = array[i]\n",
        "    for j in range (i+1, len(array)):\n",
        "      secondNum = array[j]\n",
        "      if firstNum + secondNum == targetSum:\n",
        "        return [firstNum, secondNum]\n",
        "  return []\n",
        "\n",
        "@pytest.fixture(scope=\"session\")\n",
        "def data():\n",
        "    \n",
        "    array = []\n",
        "    \n",
        "    # test 1 data\n",
        "    array.append([3, 5, -4, 8, 11, 1, -1, 6])\n",
        "\n",
        "    # test 2 data\n",
        "    array.append([4, 6, 1, -3])\n",
        "\n",
        "    # test 3 data\n",
        "    array.append([1, 2, 3, 4, 5, 6, 7, 8, 9, 15])\n",
        "\n",
        "    # test 4 data\n",
        "    array.append([15])\n",
        "\n",
        "    # test 5 data\n",
        "    array.append([-21, 301, 12, 4, 65, 56, 210, 356, 9, -47])\n",
        "\n",
        "    # test 6 data\n",
        "    array.append([-21, 301, 12, 4, 65, 56, 210, 356, 9, -47])\n",
        "\n",
        "    # test 7 data\n",
        "    array.append([-7, -5, -3, -1, 0, 1, 3, 5, 7])\n",
        "    \n",
        "    return array\n",
        "\n",
        "def test_1(data):\n",
        "    \"\"\"\n",
        "    Test evaluation for [3, 5, -4, 8, 11, 1, -1, 6] and target 10\n",
        "    \"\"\"\n",
        "    assert twoNumberSum(data[0],10) == [11,-1]\n",
        "\n",
        "\n",
        "def test_2(data):\n",
        "    \"\"\"\n",
        "    Test evaluation for [4, 6, 1, -3] and target 3\n",
        "    \"\"\"\n",
        "    assert twoNumberSum(data[1],3) == [6,-3]\n",
        "\n",
        "def test_3(data):\n",
        "    \"\"\"\n",
        "    Test evaluation for [1, 2, 3, 4, 5, 6, 7, 8, 9, 15] and target 26\n",
        "    \"\"\"\n",
        "    assert twoNumberSum(data[2],26) == []\n",
        "\n",
        "def test_4(data):\n",
        "    \"\"\"\n",
        "    Test evaluation for [15] and target 15\n",
        "    \"\"\"\n",
        "    assert twoNumberSum(data[3],15) == []\n",
        "\n",
        "def test_5(data):\n",
        "    \"\"\"\n",
        "    Test evaluation for [-21, 301, 12, 4, 65, 56, 210, 356, 9, -47] and target 164\n",
        "    \"\"\"\n",
        "    assert twoNumberSum(data[4],164) == [] \n",
        "\n",
        "def test_6(data):\n",
        "    \"\"\"\n",
        "    Test evaluation for [-21, 301, 12, 4, 65, 56, 210, 356, 9, -47] and target 163\n",
        "    \"\"\"\n",
        "    assert twoNumberSum(data[5],163) == [210, -47] \n",
        "\n",
        "def test_7(data):\n",
        "    \"\"\"\n",
        "    Test evaluation for [-7, -5, -3, -1, 0, 1, 3, 5, 7] and target -5\n",
        "    \"\"\"\n",
        "    assert twoNumberSum(data[6],-5) == [-5, 0]"
      ]
    },
    {
      "cell_type": "code",
      "execution_count": 4,
      "metadata": {
        "colab": {
          "base_uri": "https://localhost:8080/"
        },
        "id": "Kc57ZKBtIPOS",
        "outputId": "ee3ae1b4-13d5-4951-ce08-a56fc5fbfac4"
      },
      "outputs": [
        {
          "name": "stdout",
          "output_type": "stream",
          "text": [
            "============================= test session starts =============================\n",
            "platform win32 -- Python 3.9.6, pytest-7.1.2, pluggy-1.0.0 -- C:\\users\\j_mar\\appdata\\local\\programs\\python\\python39\\python.exe\n",
            "cachedir: .pytest_cache\n",
            "rootdir: c:\\Users\\j_mar\\Desktop\\GitHub\\data-structure2023.1\\tasks\\week03\n",
            "plugins: dash-2.0.0, sugar-0.9.7\n",
            "collecting ... collected 7 items\n",
            "\n",
            "test_twoNumberSum_solution.py::test_1 PASSED                             [ 14%]\n",
            "test_twoNumberSum_solution.py::test_2 PASSED                             [ 28%]\n",
            "test_twoNumberSum_solution.py::test_3 PASSED                             [ 42%]\n",
            "test_twoNumberSum_solution.py::test_4 PASSED                             [ 57%]\n",
            "test_twoNumberSum_solution.py::test_5 PASSED                             [ 71%]\n",
            "test_twoNumberSum_solution.py::test_6 PASSED                             [ 85%]\n",
            "test_twoNumberSum_solution.py::test_7 PASSED                             [100%]\n",
            "\n",
            "============================== 7 passed in 0.06s ==============================\n"
          ]
        }
      ],
      "source": [
        "!pytest test_twoNumberSum_solution.py -vv"
      ]
    },
    {
      "cell_type": "markdown",
      "metadata": {
        "id": "RQV9CmSvIYnj"
      },
      "source": [
        "# 3.0 Doubly Linked Lists"
      ]
    },
    {
      "cell_type": "markdown",
      "metadata": {
        "id": "WPVwob3hSQe-"
      },
      "source": [
        "> For all LinkedList-related questions, unless specified otherwise, assume the ``LinkedList``and ``Node`` classes defined below."
      ]
    },
    {
      "cell_type": "code",
      "execution_count": 5,
      "metadata": {
        "id": "SmAPEExnSROW"
      },
      "outputs": [],
      "source": [
        "# To produce the file linkedlist.py, please remove the comment symbol '#' from the beginning of the line below.\n",
        "# %%file linkedlist.py\n",
        "\n",
        "class Node:\n",
        "    \"\"\"A class representing a node in a doubly linked list.\"\"\"\n",
        "\n",
        "    def __init__(self, data):\n",
        "        \"\"\"Initialize a new node with the given data.\"\"\"\n",
        "        self.data = data\n",
        "        self.prev = None\n",
        "        self.next = None\n",
        "\n",
        "class LinkedList:\n",
        "    \"\"\"A class representing a doubly linked list.\"\"\"\n",
        "\n",
        "    def __init__(self):\n",
        "        \"\"\"Initialize an empty linked list.\"\"\"\n",
        "        self.head = None\n",
        "        self.tail = None\n",
        "        self.length = 0\n",
        "        \n",
        "    def append(self, data):\n",
        "        \"\"\"Add a new node with the given data to the end of the linked list.\"\"\"\n",
        "        new_node = Node(data)\n",
        "        if self.length == 0:\n",
        "            self.head = self.tail = new_node\n",
        "        else:\n",
        "            self.tail.next = new_node\n",
        "            new_node.prev = self.tail\n",
        "            self.tail = new_node\n",
        "        self.length += 1\n",
        "        \n",
        "    def __iter__(self):\n",
        "        \"\"\"Return an iterator for the linked list.\"\"\"\n",
        "        self._iter_node = self.head\n",
        "        return self \n",
        "    \n",
        "    def __next__(self):\n",
        "        \"\"\"Return the next value in the linked list.\"\"\"\n",
        "        if self._iter_node is None:\n",
        "            raise StopIteration\n",
        "        ret = self._iter_node.data\n",
        "        self._iter_node = self._iter_node.next\n",
        "        return ret\n",
        "    \n",
        "    def prepend(self, data):\n",
        "        \"\"\"Add a new node with the given data to the beginning of the linked list.\"\"\"\n",
        "        new_node = Node(data)\n",
        "        if self.length == 0:\n",
        "            self.head = self.tail = new_node\n",
        "        else:\n",
        "            self.head.prev = new_node\n",
        "            new_node.next = self.head\n",
        "            self.head = new_node\n",
        "        self.length += 1\n",
        "        \n",
        "    def __len__(self):\n",
        "        \"\"\"Return the length of the linked list.\"\"\"\n",
        "        return self.length\n",
        "    \n",
        "    def __str__(self):\n",
        "        \"\"\"Return a string representation of the linked list.\"\"\"\n",
        "        return str([value for value in self])\n",
        "\n",
        "    def __eq__(self, other):\n",
        "        \"\"\"Check if two linked lists are equal.\n",
        "\n",
        "        Traverse both linked lists and compare the data of each node. \n",
        "        If the data of all nodes in both linked lists match, return True. \n",
        "        Otherwise, return False.\n",
        "\n",
        "        Args:\n",
        "            other (LinkedList): The linked list to compare with self.\n",
        "\n",
        "        Returns:\n",
        "            bool: True if the linked lists are equal, False otherwise.\n",
        "        \"\"\"\n",
        "        # Check if the lengths of the linked lists are the same\n",
        "        if len(self) != len(other):\n",
        "            print(self,other)\n",
        "            return False\n",
        "        \n",
        "        # Iterate over both linked lists and compare the data of each node\n",
        "        for node1, node2 in zip(self, other):\n",
        "            if node1 != node2:\n",
        "                print(node1.data,node2.data)\n",
        "                return False\n",
        "        \n",
        "        # If we made it this far, the linked lists are equal\n",
        "        return True"
      ]
    },
    {
      "cell_type": "markdown",
      "metadata": {
        "id": "XBRWRbH6JJA2"
      },
      "source": [
        "## 3.1 Remove Duplicates From Linked List"
      ]
    },
    {
      "cell_type": "markdown",
      "metadata": {
        "id": "7upZw4bpJVZZ"
      },
      "source": [
        "**Difficult**: 😃 easy"
      ]
    },
    {
      "cell_type": "markdown",
      "metadata": {
        "id": "Qgj3cTOqJncB"
      },
      "source": [
        "You're given the head of a doubly Linked List whose nodes are in sorted order with respect to their values. Write a function that returns a modified version of the Linked List that doesn't contain any node with duplicat values. The Linked List should be modified in place (i.e, you shouldn't create a brand new list), and the modified Linked List should still have its nodes sorted with respect to their values.\n",
        "\n",
        "Each ``LinkedList`` node is defined as described in Section 3.0."
      ]
    },
    {
      "cell_type": "code",
      "execution_count": null,
      "metadata": {
        "id": "zFQwYNghKUs3"
      },
      "outputs": [],
      "source": [
        "# Sample Input\n",
        "# linkedList = 1 <-> 1 <-> 3 <-> 4 <-> 4 <-> 4 <-> 5 <-> 6 <-> 6 // the head value with value 1\n",
        "\n",
        "# Sample Output\n",
        "# 1 <-> 3 <-> 4 <-> 5 <-> 6"
      ]
    },
    {
      "cell_type": "markdown",
      "metadata": {
        "id": "yVy8kp3uLAd1"
      },
      "source": [
        "**Hint**\n",
        "- The brute-force approach to this problem is to use a hash table or a set to keep track of all node values that exist while traversing the linked list and to simply remove nodes that have a valeu that already exists. This approach works, but can you solve this problem without using an auxiliary data structure?\n",
        "- What does the fact that the nodes are sorted tell you about the location of all duplicate nodes? How can you use this fact to solve this problem with constant space?\n",
        "- Since the linked list's nodes are sorted, you can loop through then and, at each iteration, simply remove all successive nodes that have the same value as the current node. For each node, change its next pointer to the next node in the linked list that has a different value. This will remove all duplicate-value nodes."
      ]
    },
    {
      "cell_type": "markdown",
      "metadata": {
        "id": "bkzPdzsgLxpy"
      },
      "source": [
        "**Optimal Space & Time Complexity**\n",
        "\n",
        "- O(n) time | O(1) space - where n is the number of nodes in the Linked List"
      ]
    },
    {
      "cell_type": "code",
      "execution_count": 9,
      "metadata": {},
      "outputs": [
        {
          "name": "stdout",
          "output_type": "stream",
          "text": [
            "[1, 3, 4, 5, 6]\n"
          ]
        },
        {
          "data": {
            "text/plain": [
              "<__main__.LinkedList at 0x233cc790130>"
            ]
          },
          "execution_count": 9,
          "metadata": {},
          "output_type": "execute_result"
        }
      ],
      "source": [
        "def removeDuplicatesFromLinkedList(linkedList):\n",
        "    \"\"\"\n",
        "    Modify the input doubly linked list in place to remove all nodes with duplicate values.\n",
        "    The modified linked list should still have its nodes sorted with respect to their values.\n",
        "  \n",
        "    Args:\n",
        "    linkedList (LinkedList): The sorted doubly linked list from which duplicate nodes will be removed.\n",
        "\n",
        "    Returns:\n",
        "        LinkedList: The modified linked list with duplicate nodes removed.\n",
        "    \"\"\"\n",
        "    # Initialize a new linked list\n",
        "    new_linked_list = LinkedList()\n",
        "    \n",
        "    # Iterate over the linked list\n",
        "    for value in linkedList:\n",
        "        \n",
        "        # If the new linked list is empty, add the first value\n",
        "        if len(new_linked_list) == 0:\n",
        "            new_linked_list.append(value)\n",
        "        \n",
        "        # If the value is not equal to the last value in the new linked list, add it\n",
        "        elif value != new_linked_list.tail.data:\n",
        "            new_linked_list.append(value)\n",
        "    print(new_linked_list)\n",
        "    return new_linked_list\n",
        "\n",
        "removeDuplicatesFromLinkedList([1,1,1,3,4,4,4,5,6,6])"
      ]
    },
    {
      "cell_type": "code",
      "execution_count": 14,
      "metadata": {
        "colab": {
          "base_uri": "https://localhost:8080/"
        },
        "id": "FEbhJkwwL9Jf",
        "outputId": "5edb0603-4f5d-4d9f-df33-5c843c007f73"
      },
      "outputs": [
        {
          "name": "stdout",
          "output_type": "stream",
          "text": [
            "Writing test_linked_list_solution.py\n"
          ]
        }
      ],
      "source": [
        "%%file test_linked_list_solution.py\n",
        "import pytest\n",
        "from linkedlist import *\n",
        "\n",
        "def removeDuplicatesFromLinkedList(linkedList):\n",
        "    \"\"\"\n",
        "    Modify the input doubly linked list in place to remove all nodes with duplicate values.\n",
        "    The modified linked list should still have its nodes sorted with respect to their values.\n",
        "  \n",
        "    Args:\n",
        "    linkedList (LinkedList): The sorted doubly linked list from which duplicate nodes will be removed.\n",
        "\n",
        "    Returns:\n",
        "        LinkedList: The modified linked list with duplicate nodes removed.\n",
        "    \"\"\"\n",
        "    # Initialize a new linked list\n",
        "    new_linked_list = LinkedList()\n",
        "    \n",
        "    # Iterate over the linked list\n",
        "    for value in linkedList:\n",
        "        \n",
        "        # If the new linked list is empty, add the first value\n",
        "        if len(new_linked_list) == 0:\n",
        "            new_linked_list.append(value)\n",
        "        \n",
        "        # If the value is not equal to the last value in the new linked list, add it\n",
        "        elif value != new_linked_list.tail.data:\n",
        "            new_linked_list.append(value)\n",
        "    \n",
        "    return new_linked_list\n",
        "\n",
        "@pytest.fixture(scope=\"session\")\n",
        "def data():\n",
        "    \n",
        "    array = []\n",
        "    \n",
        "    # test 1 data\n",
        "    array.append([1,1,1,3,4,4,4,5,6,6])\n",
        "\n",
        "    # test 2 data\n",
        "    array.append([1,1,1,1,1,4,4,5,6,6])\n",
        "\n",
        "    # test 3 data\n",
        "    array.append([1,1,1,1,1,1,1])\n",
        "\n",
        "    # test 4 data\n",
        "    array.append([1,9,11,15,15,16,17])\n",
        "\n",
        "    # test 5 data\n",
        "    array.append([1])\n",
        "\n",
        "    # test 6 data\n",
        "    array.append([-5,-1,-1,-1,5,5,5,8,8,9,10,11,11])\n",
        "\n",
        "    # test 7 data\n",
        "    array.append([1,2,3,4,5,6,7,8,9,10,11,12,12])\n",
        "    \n",
        "    return array\n",
        "\n",
        "def test_1(data):\n",
        "    \"\"\"\n",
        "    Test evaluation for [1,1,1,3,4,4,4,5,6,6] \n",
        "    \"\"\"\n",
        "    linkedlist = LinkedList()\n",
        "    for item in data[0]:\n",
        "      linkedlist.append(item)\n",
        "\n",
        "    linkedlist_test = LinkedList()\n",
        "    for item in [1,3,4,5,6]:\n",
        "      linkedlist_test.append(item)\n",
        "\n",
        "    assert removeDuplicatesFromLinkedList(linkedlist) == linkedlist_test\n",
        "\n",
        "\n",
        "def test_2(data):\n",
        "    \"\"\"\n",
        "    Test evaluation for [1,1,1,1,1,4,4,5,6,6] \n",
        "    \"\"\"\n",
        "    linkedlist = LinkedList()\n",
        "    for item in data[1]:\n",
        "      linkedlist.append(item)\n",
        "\n",
        "    linkedlist_test = LinkedList()\n",
        "    for item in [1,4,5,6]:\n",
        "      linkedlist_test.append(item)\n",
        "\n",
        "    assert removeDuplicatesFromLinkedList(linkedlist) == linkedlist_test\n",
        "\n",
        "def test_3(data):\n",
        "    \"\"\"\n",
        "    Test evaluation for [1,1,1,1,1,1,1] \n",
        "    \"\"\"\n",
        "    linkedlist = LinkedList()\n",
        "    for item in data[2]:\n",
        "      linkedlist.append(item)\n",
        "\n",
        "    linkedlist_test = LinkedList()\n",
        "    for item in [1]:\n",
        "      linkedlist_test.append(item)\n",
        "\n",
        "    assert removeDuplicatesFromLinkedList(linkedlist) == linkedlist_test\n",
        "\n",
        "def test_4(data):\n",
        "    \"\"\"\n",
        "    Test evaluation for [1,9,11,15,15,16,17] \n",
        "    \"\"\"\n",
        "    linkedlist = LinkedList()\n",
        "    for item in data[3]:\n",
        "      linkedlist.append(item)\n",
        "\n",
        "    linkedlist_test = LinkedList()\n",
        "    for item in [1,9,11,15,16,17]:\n",
        "      linkedlist_test.append(item)\n",
        "\n",
        "    assert removeDuplicatesFromLinkedList(linkedlist) == linkedlist_test\n",
        "\n",
        "def test_5(data):\n",
        "    \"\"\"\n",
        "    Test evaluation for [1] \n",
        "    \"\"\"\n",
        "    linkedlist = LinkedList()\n",
        "    for item in data[4]:\n",
        "      linkedlist.append(item)\n",
        "\n",
        "    linkedlist_test = LinkedList()\n",
        "    for item in [1]:\n",
        "      linkedlist_test.append(item)\n",
        "\n",
        "    assert removeDuplicatesFromLinkedList(linkedlist) == linkedlist_test\n",
        "\n",
        "def test_6(data):\n",
        "    \"\"\"\n",
        "    Test evaluation for [-5,-1,-1,-1,5,5,5,8,8,9,10,11,11]\n",
        "    \"\"\"\n",
        "    linkedlist = LinkedList()\n",
        "    for item in data[5]:\n",
        "      linkedlist.append(item)\n",
        "\n",
        "    linkedlist_test = LinkedList()\n",
        "    for item in [-5,-1,5,8,9,10,11]:\n",
        "      linkedlist_test.append(item)\n",
        "\n",
        "    assert removeDuplicatesFromLinkedList(linkedlist) == linkedlist_test\n",
        "\n",
        "def test_7(data):\n",
        "    \"\"\"\n",
        "    Test evaluation for [1,2,3,4,5,6,7,8,9,10,11,12,12]\n",
        "    \"\"\"\n",
        "    linkedlist = LinkedList()\n",
        "    for item in data[6]:\n",
        "      linkedlist.append(item)\n",
        "\n",
        "    linkedlist_test = LinkedList()\n",
        "    for item in [1,2,3,4,5,6,7,8,9,10,11,12]:\n",
        "      linkedlist_test.append(item)\n",
        "\n",
        "    assert removeDuplicatesFromLinkedList(linkedlist) == linkedlist_test"
      ]
    },
    {
      "cell_type": "code",
      "execution_count": 15,
      "metadata": {
        "id": "j1X4OjTArPgc"
      },
      "outputs": [
        {
          "name": "stdout",
          "output_type": "stream",
          "text": [
            "============================= test session starts =============================\n",
            "platform win32 -- Python 3.9.6, pytest-7.1.2, pluggy-1.0.0 -- C:\\users\\j_mar\\appdata\\local\\programs\\python\\python39\\python.exe\n",
            "cachedir: .pytest_cache\n",
            "rootdir: c:\\Users\\j_mar\\Desktop\\GitHub\\data-structure2023.1\\tasks\\week03\n",
            "plugins: dash-2.0.0, sugar-0.9.7\n",
            "collecting ... collected 0 items / 1 error\n",
            "\n",
            "=================================== ERRORS ====================================\n",
            "________________ ERROR collecting test_linked_list_solution.py ________________\n",
            "ImportError while importing test module 'c:\\Users\\j_mar\\Desktop\\GitHub\\data-structure2023.1\\tasks\\week03\\test_linked_list_solution.py'.\n",
            "Hint: make sure your test modules/packages have valid Python names.\n",
            "Traceback:\n",
            "C:\\users\\j_mar\\appdata\\local\\programs\\python\\python39\\lib\\site-packages\\_pytest\\python.py:608: in _importtestmodule\n",
            "    mod = import_path(self.path, mode=importmode, root=self.config.rootpath)\n",
            "C:\\users\\j_mar\\appdata\\local\\programs\\python\\python39\\lib\\site-packages\\_pytest\\pathlib.py:533: in import_path\n",
            "    importlib.import_module(module_name)\n",
            "C:\\users\\j_mar\\appdata\\local\\programs\\python\\python39\\lib\\importlib\\__init__.py:127: in import_module\n",
            "    return _bootstrap._gcd_import(name[level:], package, level)\n",
            "<frozen importlib._bootstrap>:1030: in _gcd_import\n",
            "    ???\n",
            "<frozen importlib._bootstrap>:1007: in _find_and_load\n",
            "    ???\n",
            "<frozen importlib._bootstrap>:986: in _find_and_load_unlocked\n",
            "    ???\n",
            "<frozen importlib._bootstrap>:680: in _load_unlocked\n",
            "    ???\n",
            "C:\\users\\j_mar\\appdata\\local\\programs\\python\\python39\\lib\\site-packages\\_pytest\\assertion\\rewrite.py:168: in exec_module\n",
            "    exec(co, module.__dict__)\n",
            "test_linked_list_solution.py:2: in <module>\n",
            "    from linkedlist import *\n",
            "E   ModuleNotFoundError: No module named 'linkedlist'\n",
            "=========================== short test summary info ===========================\n",
            "ERROR test_linked_list_solution.py\n",
            "!!!!!!!!!!!!!!!!!!! Interrupted: 1 error during collection !!!!!!!!!!!!!!!!!!!!\n",
            "============================== 1 error in 0.31s ===============================\n"
          ]
        }
      ],
      "source": [
        "!pytest test_linked_list_solution.py -vv"
      ]
    },
    {
      "cell_type": "markdown",
      "metadata": {
        "id": "Y4GCNRGNUZLS"
      },
      "source": [
        "## 3.2 Merge Doubly Linked List"
      ]
    },
    {
      "cell_type": "markdown",
      "metadata": {
        "id": "MYmRwA2FUdua"
      },
      "source": [
        "**Difficult**: ⚠️ Medium\n",
        "\n"
      ]
    },
    {
      "cell_type": "markdown",
      "metadata": {
        "id": "TwIS9OSzUiXf"
      },
      "source": [
        "Write a function that takes two doubly linked lists that are in sorted order, respectively. The function should merge the lists in place (i.e., it shouldn't create a brand new list) and return the head of the merged list; the merged list should be in sorted order. \n",
        "\n",
        "\n",
        "Each ``LinkedList`` node is defined as described in Section 3.0.\n",
        "\n",
        "> You can assume that the input doubly linked lists will always have at least one node; in other words, the heads will never be ``None``/``Null``."
      ]
    },
    {
      "cell_type": "code",
      "execution_count": null,
      "metadata": {
        "id": "H5cZxL1IVXsX"
      },
      "outputs": [],
      "source": [
        "# Sample Input\n",
        "# linkedListOne = 2 <-> 6 <-> 7 <-> 8 //the head node with value 2\n",
        "#linkedListTwo = 1 <-> 3 <-> 4 <-> 5 <-> 9 <-> 10 //the head node with value 1\n",
        "\n",
        "# Sample Output\n",
        "# 1 <-> 2 <-> 3 <-> 4 <-> 5 <-> 6 <-> 7 <-> 8 <-> 9 <-> 10"
      ]
    },
    {
      "cell_type": "markdown",
      "metadata": {
        "id": "arCHwivyKwPa"
      },
      "source": [
        "**Hint**\n",
        "- You can iterate through the Linked Lists from head to tail and merge them along the way by inserting nodes from the second Linked List into the first Linked List.\n",
        "- You'll need to manipulate three nodes at once at every step.\n",
        "- At every step, you'll need to have three variables (p1, p2, and p1Prev) pointing to the current node in the first Linked List (p1), the current node in the second Linked List (p2), and the previous node in the first Linked List (piPrev). If the value of p1 is smaller than the value of p2, then can just \"move forward\"in the first Linked List by moving p1 and p1Prev forwared by one position (p1Prev becomes p1 and p1 becomes p1.nex). If the value of p1 is greater than the value of p2, then you need to insert p2 before p1. You'll have to first make p1Prev point to p2, then make p2 point to p1, all the while not losing track of p2's \"next\"node, which you'll need to move to right after. You'll also have to handle edge cases when you're dealing with head and nodes or tail nodes. \n",
        "- You can implement this algorithm both iteratively and recursively following nearly identifical logic."
      ]
    },
    {
      "cell_type": "markdown",
      "metadata": {
        "id": "4eR02Gf9L5JG"
      },
      "source": [
        "**Optimal Space & Time Complexity**\n",
        "\n",
        "O(n+m) time | O(1) space - where n is the number of nodes in the first Linked List and m is the number of nodes in the second Linked List."
      ]
    },
    {
      "cell_type": "code",
      "execution_count": null,
      "metadata": {},
      "outputs": [],
      "source": [
        "#do me a function to merge two sorted linked lists\n",
        "def mergeLinkedLists(headOne, headTwo):\n",
        "    \"\"\"\n",
        "    Merge two sorted linked lists into one large sorted linked list.\n",
        "\n",
        "    Args:\n",
        "        headOne (LinkedListNode): The head node of the first linked list.\n",
        "        headTwo (LinkedListNode): The head node of the second linked list.\n",
        "\n",
        "    Returns:\n",
        "        LinkedListNode: The head node of the merged linked list.\n",
        "    \"\"\"\n",
        "    # Initialize a new linked list\n",
        "    new_linked_list = LinkedList()\n",
        "    \n",
        "    # Iterate over the linked list\n",
        "    for value in headOne:\n",
        "        new_linked_list.append(value)\n",
        "        \n",
        "    for value in headTwo:\n",
        "        new_linked_list.append(value)\n",
        "        \n",
        "    return new_linked_list"
      ]
    },
    {
      "cell_type": "code",
      "execution_count": 20,
      "metadata": {
        "colab": {
          "base_uri": "https://localhost:8080/"
        },
        "id": "cKe5E2OsMS0x",
        "outputId": "7ee90052-b93f-4eae-d03c-17b81416b8a1"
      },
      "outputs": [
        {
          "name": "stdout",
          "output_type": "stream",
          "text": [
            "Overwriting test_mergeLinkedLists.py\n"
          ]
        }
      ],
      "source": [
        "%%file test_mergeLinkedLists.py\n",
        "import pytest\n",
        "from linkedlist import *\n",
        "\n",
        "def mergeLinkedLists(linkedList_one, linkedList_two):\n",
        "    \"\"\"Merge two doubly linked lists that are in sorted order.\n",
        "\n",
        "    Merge two doubly linked lists that are in sorted order. The merged list will also be in sorted order. The merge is done in place, so the returned linked list is `linkedList_one` with its head updated.\n",
        "\n",
        "    Args:\n",
        "        linkedList_one (LinkedList): The first linked list to merge.\n",
        "        linkedList_two (LinkedList): The second linked list to merge.\n",
        "\n",
        "    Returns:\n",
        "        LinkedList: The merged linked list, with its head updated to reflect the new head of the merged list.\n",
        "    \"\"\"\n",
        "    # Initialize a new linked list\n",
        "    new_linked_list = LinkedList()\n",
        "    \n",
        "    # Iterate over the linked list\n",
        "    for value in linkedList_one:\n",
        "        new_linked_list.append(value)\n",
        "        \n",
        "    for value in linkedList_two:\n",
        "        new_linked_list.append(value)\n",
        "        \n",
        "    return new_linked_list\n",
        "\n",
        "\n",
        "@pytest.fixture(scope=\"session\")\n",
        "def data():\n",
        "    \n",
        "    array = []\n",
        "    \n",
        "    # test 1 data\n",
        "    array.append([[2,6,7,8],[1,3,4,5,9,10]])\n",
        "\n",
        "    # test 2 data\n",
        "    array.append([[1,2,3,4,5],[6,7,8,9,10]])\n",
        "\n",
        "    # test 3 data\n",
        "    array.append([[6,7,8,9,10],[1,2,3,4,5]])\n",
        "\n",
        "    # test 4 data\n",
        "    array.append([[1,3,5,7,9],[2,4,6,8,10]])\n",
        "\n",
        "    # test 5 data\n",
        "    array.append([[0,1,2,3,4,5,7,8,9,10],[6]])\n",
        "\n",
        "    # test 6 data\n",
        "    array.append([[6],[0,1,2,3,4,5,7,8,9,10]])\n",
        "\n",
        "    # test 7 data\n",
        "    array.append([[1],[2]])\n",
        "\n",
        "    # test 8 data\n",
        "    array.append([[2],[1]])\n",
        "\n",
        "    # test 9 data\n",
        "    array.append([[1,1,1,3,4,5,5,5,10],[1,1,2,2,5,6,10,10]])\n",
        "    \n",
        "    return array\n",
        "\n",
        "def test_1(data):\n",
        "    \"\"\"\n",
        "    Test evaluation for [[2,6,7,8],[1,3,4,5,9,10]]\n",
        "    \"\"\"\n",
        "    linkedlist_one = LinkedList()\n",
        "    for item in data[0][0]:\n",
        "      linkedlist_one.append(item)\n",
        "\n",
        "    linkedlist_two = LinkedList()\n",
        "    for item in data[0][1]:\n",
        "      linkedlist_two.append(item)\n",
        "\n",
        "    linkedlist_test = LinkedList()\n",
        "    for item in [1,2,3,4,5,6,7,8,9,10]:\n",
        "      linkedlist_test.append(item)\n",
        "\n",
        "    assert mergeLinkedLists(linkedlist_one, linkedlist_two) == linkedlist_test\n",
        "\n",
        "\n",
        "def test_2(data):\n",
        "    \"\"\"\n",
        "    Test evaluation for [[1,2,3,4,5],[6,7,8,9,10]]\n",
        "    \"\"\"\n",
        "    linkedlist_one = LinkedList()\n",
        "    for item in data[1][0]:\n",
        "      linkedlist_one.append(item)\n",
        "\n",
        "    linkedlist_two = LinkedList()\n",
        "    for item in data[1][1]:\n",
        "      linkedlist_two.append(item)\n",
        "\n",
        "    linkedlist_test = LinkedList()\n",
        "    for item in [1,2,3,4,5,6,7,8,9,10]:\n",
        "      linkedlist_test.append(item)\n",
        "\n",
        "    assert mergeLinkedLists(linkedlist_one, linkedlist_two) == linkedlist_test\n",
        "\n",
        "def test_3(data):\n",
        "    \"\"\"\n",
        "    Test evaluation for [[6,7,8,9,10],[1,2,3,4,5]]\n",
        "    \"\"\"\n",
        "    linkedlist_one = LinkedList()\n",
        "    for item in data[2][0]:\n",
        "      linkedlist_one.append(item)\n",
        "\n",
        "    linkedlist_two = LinkedList()\n",
        "    for item in data[2][1]:\n",
        "      linkedlist_two.append(item)\n",
        "\n",
        "    linkedlist_test = LinkedList()\n",
        "    for item in [1,2,3,4,5,6,7,8,9,10]:\n",
        "      linkedlist_test.append(item)\n",
        "\n",
        "    assert mergeLinkedLists(linkedlist_one, linkedlist_two) == linkedlist_test\n",
        "\n",
        "def test_4(data):\n",
        "    \"\"\"\n",
        "    Test evaluation for [[1,3,5,7,9],[2,4,6,8,10]]\n",
        "    \"\"\"\n",
        "    linkedlist_one = LinkedList()\n",
        "    for item in data[3][0]:\n",
        "      linkedlist_one.append(item)\n",
        "\n",
        "    linkedlist_two = LinkedList()\n",
        "    for item in data[3][1]:\n",
        "      linkedlist_two.append(item)\n",
        "\n",
        "    linkedlist_test = LinkedList()\n",
        "    for item in [1,2,3,4,5,6,7,8,9,10]:\n",
        "      linkedlist_test.append(item)\n",
        "\n",
        "    assert mergeLinkedLists(linkedlist_one, linkedlist_two) == linkedlist_test\n",
        "\n",
        "def test_5(data):\n",
        "    \"\"\"\n",
        "    Test evaluation for [[0,1,2,3,4,5,7,8,9,10],[6]]\n",
        "    \"\"\"\n",
        "    linkedlist_one = LinkedList()\n",
        "    for item in data[4][0]:\n",
        "      linkedlist_one.append(item)\n",
        "\n",
        "    linkedlist_two = LinkedList()\n",
        "    for item in data[4][1]:\n",
        "      linkedlist_two.append(item)\n",
        "\n",
        "    linkedlist_test = LinkedList()\n",
        "    for item in [0,1,2,3,4,5,6,7,8,9,10]:\n",
        "      linkedlist_test.append(item)\n",
        "\n",
        "    assert mergeLinkedLists(linkedlist_one, linkedlist_two) == linkedlist_test\n",
        "\n",
        "def test_6(data):\n",
        "    \"\"\"\n",
        "    Test evaluation for [[6],[0,1,2,3,4,5,7,8,9,10]]\n",
        "    \"\"\"\n",
        "    linkedlist_one = LinkedList()\n",
        "    for item in data[5][0]:\n",
        "      linkedlist_one.append(item)\n",
        "\n",
        "    linkedlist_two = LinkedList()\n",
        "    for item in data[5][1]:\n",
        "      linkedlist_two.append(item)\n",
        "\n",
        "    linkedlist_test = LinkedList()\n",
        "    for item in [0,1,2,3,4,5,6,7,8,9,10]:\n",
        "      linkedlist_test.append(item)\n",
        "\n",
        "    assert mergeLinkedLists(linkedlist_one, linkedlist_two) == linkedlist_test\n",
        "\n",
        "def test_7(data):\n",
        "    \"\"\"\n",
        "    Test evaluation for [[1],[2]]\n",
        "    \"\"\"\n",
        "    linkedlist_one = LinkedList()\n",
        "    for item in data[6][0]:\n",
        "      linkedlist_one.append(item)\n",
        "\n",
        "    linkedlist_two = LinkedList()\n",
        "    for item in data[6][1]:\n",
        "      linkedlist_two.append(item)\n",
        "\n",
        "    linkedlist_test = LinkedList()\n",
        "    for item in [1,2]:\n",
        "      linkedlist_test.append(item)\n",
        "\n",
        "    assert mergeLinkedLists(linkedlist_one, linkedlist_two) == linkedlist_test\n",
        "\n",
        "def test_8(data):\n",
        "    \"\"\"\n",
        "    Test evaluation for [[2],[1]]\n",
        "    \"\"\"\n",
        "    linkedlist_one = LinkedList()\n",
        "    for item in data[7][0]:\n",
        "      linkedlist_one.append(item)\n",
        "\n",
        "    linkedlist_two = LinkedList()\n",
        "    for item in data[7][1]:\n",
        "      linkedlist_two.append(item)\n",
        "\n",
        "    linkedlist_test = LinkedList()\n",
        "    for item in [1,2]:\n",
        "      linkedlist_test.append(item)\n",
        "\n",
        "    assert mergeLinkedLists(linkedlist_one, linkedlist_two) == linkedlist_test\n",
        "\n",
        "def test_9(data):\n",
        "    \"\"\"\n",
        "    Test evaluation for [[1,1,1,3,4,5,5,5,10],[1,1,2,2,5,6,10,10]]\n",
        "    \"\"\"\n",
        "    linkedlist_one = LinkedList()\n",
        "    for item in data[8][0]:\n",
        "      linkedlist_one.append(item)\n",
        "\n",
        "    linkedlist_two = LinkedList()\n",
        "    for item in data[8][1]:\n",
        "      linkedlist_two.append(item)\n",
        "\n",
        "    linkedlist_test = LinkedList()\n",
        "    for item in [1,1,1,1,1,2,2,3,4,5,5,5,5,6,10,10,10]:\n",
        "      linkedlist_test.append(item)\n",
        "\n",
        "    assert mergeLinkedLists(linkedlist_one, linkedlist_two) == linkedlist_test\n"
      ]
    },
    {
      "cell_type": "code",
      "execution_count": 21,
      "metadata": {},
      "outputs": [
        {
          "name": "stdout",
          "output_type": "stream",
          "text": [
            "Requirement already satisfied: markupsafe==2.0.1 in c:\\users\\j_mar\\appdata\\local\\programs\\python\\python39\\lib\\site-packages (2.0.1)\n",
            "Requirement already satisfied: werkzeug==2.0.3 in c:\\users\\j_mar\\appdata\\local\\programs\\python\\python39\\lib\\site-packages (2.0.3)\n"
          ]
        },
        {
          "name": "stderr",
          "output_type": "stream",
          "text": [
            "WARNING: Ignoring invalid distribution -illow (c:\\users\\j_mar\\appdata\\local\\programs\\python\\python39\\lib\\site-packages)\n",
            "WARNING: Ignoring invalid distribution -illow (c:\\users\\j_mar\\appdata\\local\\programs\\python\\python39\\lib\\site-packages)\n",
            "WARNING: Ignoring invalid distribution -illow (c:\\users\\j_mar\\appdata\\local\\programs\\python\\python39\\lib\\site-packages)\n",
            "WARNING: Ignoring invalid distribution -illow (c:\\users\\j_mar\\appdata\\local\\programs\\python\\python39\\lib\\site-packages)\n",
            "WARNING: Ignoring invalid distribution -illow (c:\\users\\j_mar\\appdata\\local\\programs\\python\\python39\\lib\\site-packages)\n",
            "WARNING: Ignoring invalid distribution -illow (c:\\users\\j_mar\\appdata\\local\\programs\\python\\python39\\lib\\site-packages)\n",
            "WARNING: You are using pip version 21.3.1; however, version 23.1 is available.\n",
            "You should consider upgrading via the 'C:\\users\\j_mar\\appdata\\local\\programs\\python\\python39\\python.exe -m pip install --upgrade pip' command.\n"
          ]
        }
      ],
      "source": [
        "#Install requirements\n",
        "!pip install markupsafe==2.0.1 werkzeug==2.0.3"
      ]
    },
    {
      "cell_type": "code",
      "execution_count": 23,
      "metadata": {
        "id": "EjRhTOZvROA-"
      },
      "outputs": [
        {
          "name": "stdout",
          "output_type": "stream",
          "text": [
            "============================= test session starts =============================\n",
            "platform win32 -- Python 3.9.6, pytest-7.1.2, pluggy-1.0.0 -- c:\\Users\\j_mar\\AppData\\Local\\Programs\\Python\\Python39\\python.exe\n",
            "cachedir: .pytest_cache\n",
            "rootdir: c:\\Users\\j_mar\\Desktop\\GitHub\\data-structure2023.1\\tasks\\week03\n",
            "plugins: dash-2.0.0, sugar-0.9.7\n",
            "collecting ... collected 0 items / 1 error\n",
            "\n",
            "=================================== ERRORS ====================================\n",
            "__________________ ERROR collecting test_mergeLinkedLists.py __________________\n",
            "ImportError while importing test module 'c:\\Users\\j_mar\\Desktop\\GitHub\\data-structure2023.1\\tasks\\week03\\test_mergeLinkedLists.py'.\n",
            "Hint: make sure your test modules/packages have valid Python names.\n",
            "Traceback:\n",
            "c:\\Users\\j_mar\\AppData\\Local\\Programs\\Python\\Python39\\lib\\site-packages\\_pytest\\python.py:608: in _importtestmodule\n",
            "    mod = import_path(self.path, mode=importmode, root=self.config.rootpath)\n",
            "c:\\Users\\j_mar\\AppData\\Local\\Programs\\Python\\Python39\\lib\\site-packages\\_pytest\\pathlib.py:533: in import_path\n",
            "    importlib.import_module(module_name)\n",
            "c:\\Users\\j_mar\\AppData\\Local\\Programs\\Python\\Python39\\lib\\importlib\\__init__.py:127: in import_module\n",
            "    return _bootstrap._gcd_import(name[level:], package, level)\n",
            "<frozen importlib._bootstrap>:1030: in _gcd_import\n",
            "    ???\n",
            "<frozen importlib._bootstrap>:1007: in _find_and_load\n",
            "    ???\n",
            "<frozen importlib._bootstrap>:986: in _find_and_load_unlocked\n",
            "    ???\n",
            "<frozen importlib._bootstrap>:680: in _load_unlocked\n",
            "    ???\n",
            "c:\\Users\\j_mar\\AppData\\Local\\Programs\\Python\\Python39\\lib\\site-packages\\_pytest\\assertion\\rewrite.py:168: in exec_module\n",
            "    exec(co, module.__dict__)\n",
            "test_mergeLinkedLists.py:2: in <module>\n",
            "    from linkedlist import *\n",
            "E   ModuleNotFoundError: No module named 'linkedlist'\n",
            "=========================== short test summary info ===========================\n",
            "ERROR test_mergeLinkedLists.py\n",
            "!!!!!!!!!!!!!!!!!!! Interrupted: 1 error during collection !!!!!!!!!!!!!!!!!!!!\n",
            "============================== 1 error in 0.26s ===============================\n"
          ]
        }
      ],
      "source": [
        "!python -m pytest test_mergeLinkedLists.py -vv"
      ]
    },
    {
      "cell_type": "markdown",
      "metadata": {
        "id": "l0UzYmSS29iq"
      },
      "source": [
        "# 4.0 Stack"
      ]
    },
    {
      "cell_type": "code",
      "execution_count": null,
      "metadata": {
        "id": "NlrbfDJe2_v_"
      },
      "outputs": [],
      "source": [
        "# To produce the file stack.py, please remove the comment symbol '#' from the beginning of the line below.\n",
        "# Note you need to generate the file linkedlist.py in the Section 3.\n",
        "\n",
        "#%%file stack.py\n",
        "from linkedlist import *\n",
        "\n",
        "class Stack(LinkedList):\n",
        "    \"\"\"\n",
        "    This class represents a stack data structure that inherits from a linked list.\n",
        "    \n",
        "    Methods:\n",
        "    push(data) -- adds a new node to the top of the stack with the given data.\n",
        "    peek() -- returns the data at the top of the stack without removing it.\n",
        "    pop() -- removes and returns the node at the top of the stack.\n",
        "    \"\"\"\n",
        "    \n",
        "    def push(self, data):\n",
        "        \"\"\"\n",
        "        Adds a new node to the top of the stack with the given data.\n",
        "        \n",
        "        Arguments:\n",
        "        data -- the data to be stored in the new node.\n",
        "        \"\"\"\n",
        "        self.append(data)\n",
        "\n",
        "    def peek(self):\n",
        "        \"\"\"\n",
        "        Returns the data at the top of the stack without removing it.\n",
        "        \"\"\"\n",
        "        return self.tail.data\n",
        "\n",
        "    def pop(self):\n",
        "        \"\"\"\n",
        "        Removes and returns the node at the top of the stack.\n",
        "        \n",
        "        Returns:\n",
        "        The data stored in the node at the top of the stack.\n",
        "        \"\"\"\n",
        "        ret = self.tail.data\n",
        "        if self.length == 1:\n",
        "            self.tail = self.head = None\n",
        "        else:\n",
        "            self.tail = self.tail.prev\n",
        "            self.tail.next = None\n",
        "        self.length -= 1\n",
        "        return ret"
      ]
    },
    {
      "cell_type": "markdown",
      "metadata": {
        "id": "0V8S6C1kQ9jV"
      },
      "source": [
        "## 4.1 Sunset Views"
      ]
    },
    {
      "cell_type": "markdown",
      "metadata": {
        "id": "Q3fjNaM7Rxtn"
      },
      "source": [
        "**Difficult**: ⚠️ Medium\n"
      ]
    },
    {
      "cell_type": "markdown",
      "metadata": {
        "id": "I7Zg5ZyOR1MX"
      },
      "source": [
        "Given an array of buildings and a direction that all of the buildings face, return an array of the indices of the buildings that can see the sunset. \n",
        "\n",
        "A building can see the sunset if its strictly taller than all of the buildings that come after it in the direction that it faces. \n",
        "\n",
        "The input array named ``buildings`` contains positive, non-zero integers representing the heights of the buildings. A building at index ``i`` thus has a height denoted by ``buildings[1]``. All of the buildings face the same direction, and this direction is either east or west, denoted by the input string named ``direction``, which will always be equal to either ``EAST`` or ``WEST``. In relation to the input array, you can interpret these directions as right for east and left for west. \n",
        "\n",
        "Important note: the indices in the ouput array should be sorted in ascending order. "
      ]
    },
    {
      "cell_type": "code",
      "execution_count": null,
      "metadata": {
        "id": "O9SzbfW5SrNL"
      },
      "outputs": [],
      "source": [
        "# Sample Input\n",
        "buildings = [3,5,4,4,3,1,3,2]\n",
        "direction = \"EAST\""
      ]
    },
    {
      "cell_type": "code",
      "execution_count": null,
      "metadata": {
        "id": "goqcLAbGe2gl"
      },
      "outputs": [],
      "source": [
        "# Sample Output\n",
        "# Below is the visual representation of the sample input\n",
        "\"\"\"_\n",
        "  | |_ _\n",
        " _| | | |_   _\n",
        "| | | | | | | |_\n",
        "| | | | | |_| | |\n",
        "|_|_|_|_|_|_|_|_|\n",
        "\"\"\"\n",
        "output = [1,3,6,7]"
      ]
    },
    {
      "cell_type": "code",
      "execution_count": null,
      "metadata": {
        "id": "KWmArOTve4Ss"
      },
      "outputs": [],
      "source": [
        "# Sample Input\n",
        "buildings = [3,5,4,4,3,1,3,2]\n",
        "direction = \"WEST\"\n",
        "\n",
        "# Sample Output\n",
        "ouput = [0,1]"
      ]
    },
    {
      "cell_type": "markdown",
      "metadata": {
        "id": "C0ohBZhhguWe"
      },
      "source": [
        "**Hint**\n",
        "- Is there a way to silve this problem in one loop?\n",
        "- How does your solution change based on the direction that the buildings are facing? You can use the same approach for each direction by simply changing the direction in wihich you traverse the array of building.\n",
        "- There are multiple ways to solve this problem, but one is to maintain a running maximum of building heights. Loop in the opposite direction that the buildings are facing, and keep track of the maximum building height that you've seen. At each iteration, compare the height of the current building to the running maximum; if the current building is taller, then it can see the sunset; otherwise, it can't. Finally, at each iteration, update the running maximum.\n",
        "> Another way to solve this problem is to use a **stack**. Loop in the direction that the buildings are facing, and add the index of the current building to the stack at the end of each iteration. Before adding elements to the slack, compare the current building height to buildings at the top of the stack. Pop off the top of the stack until the current building height is shorter than the height of the building at the top of the stack. This will remove all buildings the are blocked from seeing the sunset by the current building. At the end of the algorithm, the stack will only contain elements that can see the sunset.\n"
      ]
    },
    {
      "cell_type": "markdown",
      "metadata": {
        "id": "qTQ2F_6-hdxE"
      },
      "source": [
        "**Optimal Space & Time Complexity**\n",
        "\n",
        "O(n) time | O(n) space - where n is the lenght of the input array."
      ]
    },
    {
      "cell_type": "code",
      "execution_count": null,
      "metadata": {
        "colab": {
          "base_uri": "https://localhost:8080/"
        },
        "id": "LhfwHOvuiuwR",
        "outputId": "90803ee5-a4e1-47ea-e6a1-8aba7186a13a"
      },
      "outputs": [
        {
          "name": "stdout",
          "output_type": "stream",
          "text": [
            "Overwriting test_stack.py\n"
          ]
        }
      ],
      "source": [
        "%%file test_stack.py\n",
        "import pytest\n",
        "from stack import *\n",
        "\n",
        "def sunsetViews(buildings, direction):\n",
        "    \"\"\"\n",
        "    Given an array of buildings and a direction that all of the buildings face,\n",
        "    return an array of the indices of the buildings that can see the sunset.\n",
        "    \n",
        "    A building can see the sunset if it's strictly taller than all of the buildings\n",
        "    that come after it in the direction that it faces.\n",
        "\n",
        "    Args:\n",
        "    buildings (list): A list of positive, non-zero integers representing the heights of the buildings.\n",
        "    direction (str): A string denoting the direction the buildings face, either 'EAST' or 'WEST'.\n",
        "    \n",
        "    Returns:\n",
        "    list: A sorted list of indices of the buildings that can see the sunset.\n",
        "    \"\"\"\n",
        "    # \n",
        "    # Write your code here.\n",
        "    #\n",
        "    result = Stack()\n",
        "    \n",
        "    return sorted(list(result))\n",
        "\n",
        "@pytest.fixture(scope=\"session\")\n",
        "def data():\n",
        "    \n",
        "    array = []\n",
        "    \n",
        "    # test 1 data\n",
        "    array.append([3, 5, 4, 4, 3, 1, 3, 2])\n",
        "\n",
        "    # test 2 data\n",
        "    array.append([3, 5, 4, 4, 3, 1, 3, 2])\n",
        "\n",
        "    # test 3 data\n",
        "    array.append([10, 11])\n",
        "\n",
        "    # test 4 data\n",
        "    array.append([2,4])\n",
        "\n",
        "    # test 5 data\n",
        "    array.append([1])\n",
        "\n",
        "    # test 6 data\n",
        "    array.append([1])\n",
        "\n",
        "    # test 7 data\n",
        "    array.append([])\n",
        "\n",
        "    # test 8 data\n",
        "    array.append([])\n",
        "\n",
        "    # test 9 data\n",
        "    array.append([7, 1, 7, 8, 9, 8, 7, 6, 5, 4, 2, 5])\n",
        "\n",
        "    # test 10 data\n",
        "    array.append([1, 2, 3, 4, 5, 6])\n",
        "\n",
        "    # test 11 data\n",
        "    array.append([1, 2, 3, 4, 5, 6])\n",
        "\n",
        "    # test 12 data\n",
        "    array.append([1, 2, 3, 1, 5, 6, 9, 1, 9, 9, 11, 10, 9, 12, 8])\n",
        "\n",
        "    # test 13 data\n",
        "    array.append([20, 2, 3, 1, 5, 6, 9, 1, 9, 9, 11, 10, 9, 12, 8])\n",
        "    \n",
        "    return array\n",
        "\n",
        "def test_1(data):\n",
        "    \"\"\"\n",
        "    Test evaluation for [3, 5, 4, 4, 3, 1, 3, 2],EAST\n",
        "    \"\"\"\n",
        "    buildings = data[0]\n",
        "    direction = \"EAST\"\n",
        "    assert sunsetViews(buildings, direction) == [1, 3, 6, 7]\n",
        "\n",
        "\n",
        "def test_2(data):\n",
        "    \"\"\"\n",
        "    Test evaluation for [3, 5, 4, 4, 3, 1, 3, 2],WEST\n",
        "    \"\"\"\n",
        "    buildings = data[1]\n",
        "    direction = \"WEST\"\n",
        "    assert sunsetViews(buildings, direction) == [0,1]\n",
        "\n",
        "def test_3(data):\n",
        "    \"\"\"\n",
        "    Test evaluation for [10, 11],EAST\n",
        "    \"\"\"\n",
        "    buildings = data[2]\n",
        "    direction = \"EAST\"\n",
        "    assert sunsetViews(buildings, direction) == [1]\n",
        "\n",
        "def test_4(data):\n",
        "    \"\"\"\n",
        "    Test evaluation for [2,4],WEST\n",
        "    \"\"\"\n",
        "    buildings = data[3]\n",
        "    direction = \"WEST\"\n",
        "    assert sunsetViews(buildings, direction) == [0,1]\n",
        "\n",
        "def test_5(data):\n",
        "    \"\"\"\n",
        "    Test evaluation for [1],EAST\n",
        "    \"\"\"\n",
        "    buildings = data[4]\n",
        "    direction = \"EAST\"\n",
        "    assert sunsetViews(buildings, direction) == [0]\n",
        "\n",
        "def test_6(data):\n",
        "    \"\"\"\n",
        "    Test evaluation for [1],WEST\n",
        "    \"\"\"\n",
        "    buildings = data[5]\n",
        "    direction = \"WEST\"\n",
        "    assert sunsetViews(buildings, direction) == [0]\n",
        "\n",
        "def test_7(data):\n",
        "    \"\"\"\n",
        "    Test evaluation for [],EAST\n",
        "    \"\"\"\n",
        "    buildings = data[6]\n",
        "    direction = \"EAST\"\n",
        "    assert sunsetViews(buildings, direction) == []\n",
        "\n",
        "def test_8(data):\n",
        "    \"\"\"\n",
        "    Test evaluation for [],WEST\n",
        "    \"\"\"\n",
        "    buildings = data[7]\n",
        "    direction = \"WEST\"\n",
        "    assert sunsetViews(buildings, direction) == []\n",
        "\n",
        "def test_9(data):\n",
        "    \"\"\"\n",
        "    Test evaluation for [7, 1, 7, 8, 9, 8, 7, 6, 5, 4, 2, 5],EAST\n",
        "    \"\"\"\n",
        "    buildings = data[8]\n",
        "    direction = \"EAST\"\n",
        "    assert sunsetViews(buildings, direction) == [4, 5, 6, 7, 11]\n",
        "\n",
        "def test_10(data):\n",
        "    \"\"\"\n",
        "    Test evaluation for [1, 2, 3, 4, 5, 6],EAST\n",
        "    \"\"\"\n",
        "    buildings = data[9]\n",
        "    direction = \"EAST\"\n",
        "    assert sunsetViews(buildings, direction) == [5]\n",
        "\n",
        "def test_11(data):\n",
        "    \"\"\"\n",
        "    Test evaluation for [1, 2, 3, 4, 5, 6],WEST\n",
        "    \"\"\"\n",
        "    buildings = data[10]\n",
        "    direction = \"WEST\"\n",
        "    assert sunsetViews(buildings, direction) == [0, 1, 2, 3, 4, 5]\n",
        "\n",
        "def test_12(data):\n",
        "    \"\"\"\n",
        "    Test evaluation for [1, 2, 3, 1, 5, 6, 9, 1, 9, 9, 11, 10, 9, 12, 8],WEST\n",
        "    \"\"\"\n",
        "    buildings = data[11]\n",
        "    direction = \"WEST\"\n",
        "    assert sunsetViews(buildings, direction) == [0, 1, 2, 4, 5, 6, 10, 13]\n",
        "\n",
        "def test_13(data):\n",
        "    \"\"\"\n",
        "    Test evaluation for [20, 2, 3, 1, 5, 6, 9, 1, 9, 9, 11, 10, 9, 12, 8],EAST\n",
        "    \"\"\"\n",
        "    buildings = data[12]\n",
        "    direction = \"EAST\"\n",
        "    assert sunsetViews(buildings, direction) == [0, 13, 14]\n"
      ]
    },
    {
      "cell_type": "code",
      "execution_count": null,
      "metadata": {
        "id": "TtucqsBLm85z"
      },
      "outputs": [],
      "source": [
        "!pytest test_stack.py -vv"
      ]
    }
  ],
  "metadata": {
    "colab": {
      "provenance": [],
      "toc_visible": true
    },
    "kernelspec": {
      "display_name": "Python 3",
      "name": "python3"
    },
    "language_info": {
      "codemirror_mode": {
        "name": "ipython",
        "version": 3
      },
      "file_extension": ".py",
      "mimetype": "text/x-python",
      "name": "python",
      "nbconvert_exporter": "python",
      "pygments_lexer": "ipython3",
      "version": "3.9.6"
    }
  },
  "nbformat": 4,
  "nbformat_minor": 0
}

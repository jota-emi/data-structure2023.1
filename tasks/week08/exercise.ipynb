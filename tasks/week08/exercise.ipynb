{
  "cells": [
    {
      "attachments": {},
      "cell_type": "markdown",
      "metadata": {
        "id": "YGoGFx3lWBbJ"
      },
      "source": [
        "Student Identification\n",
        "\n",
        "- Full Name 01: João Marcos Viana Silva"
      ]
    },
    {
      "cell_type": "markdown",
      "metadata": {
        "id": "0vUTEVI2SSAQ"
      },
      "source": [
        "# Exercise Q&A (1,00 point for grade in Unit 02)"
      ]
    },
    {
      "cell_type": "markdown",
      "metadata": {
        "id": "tG_xFopi_wpj"
      },
      "source": [
        "## Question 01"
      ]
    },
    {
      "cell_type": "markdown",
      "metadata": {
        "id": "rtVDKKTDGCND"
      },
      "source": [
        "Consider a network with *N* nodes. Given a single link, what is the maximum number of nodes that link can connect? Given a single node, what is the maximum number of links that can connect to that node?"
      ]
    },
    {
      "cell_type": "markdown",
      "metadata": {
        "id": "3n2EjOMmHMuI"
      },
      "source": [
        "Answer:"
      ]
    },
    {
      "attachments": {},
      "cell_type": "markdown",
      "metadata": {},
      "source": [
        "By definition, an edge connects exactly two nodes in a network, no more and no less. So the maximum number of nodes that a single edge can connect is 2.\n",
        "Considering that each node in a network can be connected to all other nodes, but cannot be connected to itself, then: being *N* number of nodes, the maximum number of edges connected to it is N-1, all but himself."
      ]
    },
    {
      "cell_type": "markdown",
      "metadata": {
        "id": "uQPRLZUXHRFc"
      },
      "source": [
        "## Question 02"
      ]
    },
    {
      "attachments": {},
      "cell_type": "markdown",
      "metadata": {
        "id": "FnKLHki-Hay_"
      },
      "source": [
        "\n",
        "<center><img width=\"600\" src=\"https://maps.lib.utexas.edu/maps/historical/new_york_parks_1880.jpg\"></center>\n",
        "<center><b>Figure 1</b>: Map of New York in 1880. From Report on the Social Statistics of Cities, Compiled by George E. Waring, Jr., U.S. Census Office, 1886. Image courtesy of University of Texas Libraries. <br></center>\n",
        "\n",
        "\n",
        "Consider the road map in Figure 1. The grid-like structure of this network means that most nodes have the same degree. What is the most common degree for nodes in this network?\n",
        "\n"
      ]
    },
    {
      "cell_type": "markdown",
      "metadata": {
        "id": "DtBZnm2OHgaI"
      },
      "source": [
        "Answer:"
      ]
    },
    {
      "attachments": {},
      "cell_type": "markdown",
      "metadata": {},
      "source": [
        "If we consider the street crossings as nodes and the streets as edges, we can say that most nodes have a degree of 4. The degree of a node is defined as the number of edges it has, and in this case, the map has intersections between 4 streets in most cases."
      ]
    },
    {
      "cell_type": "markdown",
      "metadata": {
        "id": "pyOgImYmJsh3"
      },
      "source": [
        "## Question 03"
      ]
    },
    {
      "cell_type": "markdown",
      "metadata": {
        "id": "17qGjrMHJvZ7"
      },
      "source": [
        "Consider the road map in Figure 1. Manhattan has a lot of one-way streets. This implies that a good network model of traffic flow would probably have directed links. Consider a subgraph of this network with grid-like connectivity and all one-way streets (i.e. each node is a four-way intersection of two one-way streets). What is the most common in-degree of nodes in this subgraph? What is the most common out-degree?"
      ]
    },
    {
      "cell_type": "markdown",
      "metadata": {
        "id": "71j_C-55KIVC"
      },
      "source": [
        "Answer:"
      ]
    },
    {
      "attachments": {},
      "cell_type": "markdown",
      "metadata": {},
      "source": [
        "![Q3](https://github.com/jota-emi/data-structure2023.1/blob/main/tasks/week08/Q3.png?raw=true)\n",
        "\n",
        "Considering that each node represents a four-way intersection of two one-way streets, we can assume a behavior that resembles the image above. This implies that the in-degree of most nodes will be 2, reflecting the edges entering the node, while the out-degree will also be 2, reflecting the edges exiting the node."
      ]
    },
    {
      "cell_type": "markdown",
      "metadata": {
        "id": "6ajWuuasKLQ_"
      },
      "source": [
        "## Question 04"
      ]
    },
    {
      "cell_type": "markdown",
      "metadata": {
        "id": "ylQ51DMWKZxC"
      },
      "source": [
        "What network quantity can we use to represent the volume of traffic between each pair of adjacent intersections in the Manhattan road map (Figure 1)?"
      ]
    },
    {
      "cell_type": "markdown",
      "metadata": {
        "id": "oE9sJ1mWKcF0"
      },
      "source": [
        "Answer:"
      ]
    },
    {
      "attachments": {},
      "cell_type": "markdown",
      "metadata": {},
      "source": [
        "![Q4](https://github.com/jota-emi/data-structure2023.1/blob/main/tasks/week08/Q4.PNG?raw=true)\n",
        "\n",
        "The best approach is to use a weighted network where the weight of a link corresponds to the traffic volume. In this case, the larger the traffic volume, higher the weight of the link."
      ]
    },
    {
      "cell_type": "markdown",
      "metadata": {
        "id": "udxnPkItKfX3"
      },
      "source": [
        "## Question 5"
      ]
    },
    {
      "cell_type": "markdown",
      "metadata": {
        "id": "fj7f0HL7KtOy"
      },
      "source": [
        "Consider a directed network of N nodes. Now consider the total in-degree (i.e. the sum of the in-degree over all nodes in the network). Compare this to the analogous total out-degree. Which of the following must hold true for any such network?\n",
        "\n",
        "1. Total in-degree must be less than total out-degree\n",
        "2. Total in-degree must be greater than total out-degree\n",
        "3. Total in-degree must be equal to total out-degree\n",
        "4. None of these hold true in all instances"
      ]
    },
    {
      "cell_type": "markdown",
      "metadata": {
        "id": "4P5ThuVNK3Ug"
      },
      "source": [
        "Answer:"
      ]
    },
    {
      "attachments": {},
      "cell_type": "markdown",
      "metadata": {},
      "source": [
        "The right answer is the number 3 - Total in-degree must be equal to total out-degree. Considering that every in-degree edge to one node is also a out-degree edge to another one."
      ]
    },
    {
      "cell_type": "markdown",
      "metadata": {
        "id": "QPVskC76LUtF"
      },
      "source": [
        "## Question 6"
      ]
    },
    {
      "cell_type": "markdown",
      "metadata": {
        "id": "A1TqNt5nLZkU"
      },
      "source": [
        "Consider a Twitter retweet network, where users are nodes and we want to show how many times a given user has retweeted another user. What link type best captures this relation?\n",
        "1.   Undirected, unweighted\n",
        "2.   Undirected, weighted\n",
        "3.   Directed, unweighted\n",
        "4.   Directed, weighted"
      ]
    },
    {
      "cell_type": "markdown",
      "metadata": {
        "id": "yJNqiQJ5LkFy"
      },
      "source": [
        "Answer:"
      ]
    },
    {
      "attachments": {},
      "cell_type": "markdown",
      "metadata": {},
      "source": [
        "![Q6](https://github.com/jota-emi/data-structure2023.1/blob/main/tasks/week08/Q6.PNG?raw=true)\n",
        "\n",
        "Directed Weighted, because with this we can represent which user do the retweet (directed) and also how many retweets (weighted)."
      ]
    },
    {
      "cell_type": "markdown",
      "metadata": {
        "id": "ZT5mLS7-Lsb2"
      },
      "source": [
        "## Question 7"
      ]
    },
    {
      "cell_type": "markdown",
      "metadata": {
        "id": "ofRy-TURMLix"
      },
      "source": [
        "Consider a hashtag co-occurrence graph from Twitter. In this network, hashtags are the nodes, and a link between two hashtags indicates how often those two hashtags appear in tweets together. What link type would best capture this relation?\n",
        "1.   Undirected, unweighted\n",
        "2.   Undirected, weighted\n",
        "3.   Directed, unweighted\n",
        "4.   Directed, weighted"
      ]
    },
    {
      "cell_type": "markdown",
      "metadata": {
        "id": "8H7AiKavMQsT"
      },
      "source": [
        "Answer:"
      ]
    },
    {
      "attachments": {},
      "cell_type": "markdown",
      "metadata": {},
      "source": [
        "![Q7](https://github.com/jota-emi/data-structure2023.1/blob/main/tasks/week08/Q7.PNG?raw=true)\n",
        "\n",
        "An undirected weighted network is the best approach, as it allows us to represent the occurrence volume. The direction is not necessary because the relationship between two hashtags is symmetrical."
      ]
    },
    {
      "cell_type": "markdown",
      "metadata": {
        "id": "4-bIhQwpMVs3"
      },
      "source": [
        "## Question 8"
      ]
    },
    {
      "cell_type": "markdown",
      "metadata": {
        "id": "9SVLykJ6M5lM"
      },
      "source": [
        "Consider a network created from characters in a story or play. The nodes are people, and a link exists between two nodes if those characters ever engage in dialogue. Which type of edge could represent this relation? Justify your answer.\n",
        "1.   Undirected, unweighted\n",
        "2.   Undirected, weighted\n",
        "3.   Directed, unweighted\n",
        "4.   Directed, weighted"
      ]
    },
    {
      "cell_type": "markdown",
      "metadata": {
        "id": "FnvkcRD-M8eq"
      },
      "source": [
        "Answer:"
      ]
    },
    {
      "attachments": {},
      "cell_type": "markdown",
      "metadata": {},
      "source": [
        "A undirected unweighted network is the best approach because the relationship is symmetrical, and the frequency of interactions does not matter."
      ]
    },
    {
      "cell_type": "markdown",
      "metadata": {
        "id": "S4Ga_yyYNBBo"
      },
      "source": [
        "## Question 9"
      ]
    },
    {
      "cell_type": "markdown",
      "metadata": {
        "id": "1_z4ApdLNa6a"
      },
      "source": [
        "Suppose we want to make a more complex version of a dialog network that captures how much each character speaks and to whom. What type of link would best represent this relation?\n",
        "1.   Undirected, unweighted\n",
        "2.   Undirected, weighted\n",
        "3.   Directed, unweighted\n",
        "4.   Directed, weighted"
      ]
    },
    {
      "cell_type": "markdown",
      "metadata": {
        "id": "urjFC0KTNefy"
      },
      "source": [
        "Answer:"
      ]
    },
    {
      "attachments": {},
      "cell_type": "markdown",
      "metadata": {},
      "source": [
        "Once it's important to know the frequency of interactions and the one who speaks, the best approach here is directed weighted."
      ]
    },
    {
      "cell_type": "markdown",
      "metadata": {
        "id": "hct-5tQwNg5_"
      },
      "source": [
        "## Question 10"
      ]
    },
    {
      "cell_type": "markdown",
      "metadata": {
        "id": "soJKH_N1Nnj3"
      },
      "source": [
        "Imagine that your social network has a subnetwork where you and 24 of your friends (25 people total) are all friends with each other. What is such a subnetwork called? And how many links are contained in the subnetwork?"
      ]
    },
    {
      "cell_type": "markdown",
      "metadata": {
        "id": "e8GcJrj1Npay"
      },
      "source": [
        "Answer:"
      ]
    },
    {
      "attachments": {},
      "cell_type": "markdown",
      "metadata": {},
      "source": [
        "Every node of subnetwork is directly connected to every other node, so we can call this a clique.\n",
        "\n",
        "To calculate the number of links in the subnetwork, we can use the formula:\n",
        "$$ N = {(n * (n-1)) \\over 2} $$\n",
        "$$ N = {(25 * (24)) \\over 2} $$\n",
        "$$ N = {600 \\over 2} $$\n",
        "$$ N = {300} $$"
      ]
    },
    {
      "cell_type": "markdown",
      "metadata": {
        "id": "--K9oj5YNrjz"
      },
      "source": [
        "## Question 11"
      ]
    },
    {
      "cell_type": "markdown",
      "metadata": {
        "id": "DRFut7ovNz41"
      },
      "source": [
        "Consider an undirected network with N nodes. What is the maximum number of links this network can have?"
      ]
    },
    {
      "cell_type": "markdown",
      "metadata": {
        "id": "60iToMENN61m"
      },
      "source": [
        "Answer:"
      ]
    },
    {
      "attachments": {},
      "cell_type": "markdown",
      "metadata": {},
      "source": [
        "$$ Max = {N(N-1) \\over 2} $$\n",
        "For any N = Number of nodes"
      ]
    },
    {
      "cell_type": "markdown",
      "metadata": {
        "id": "cER1jb6SN8NF"
      },
      "source": [
        "## Question 12"
      ]
    },
    {
      "cell_type": "markdown",
      "metadata": {
        "id": "PyyEb1GeOBK9"
      },
      "source": [
        "Consider a bipartite network of N nodes, $N_1$ nodes of type 1 and $N_2$ nodes of type 2 (so that $N_1 + N_2 = N$). What is the maximum number of links in this network?"
      ]
    },
    {
      "cell_type": "markdown",
      "metadata": {
        "id": "6AoiES-AOJdB"
      },
      "source": [
        "Answer:"
      ]
    },
    {
      "attachments": {},
      "cell_type": "markdown",
      "metadata": {},
      "source": [
        "$$ Lmax = {N_1 * N_2} $$\n"
      ]
    },
    {
      "cell_type": "markdown",
      "metadata": {
        "id": "RN4CfOSqOK_1"
      },
      "source": [
        "## Question 13"
      ]
    },
    {
      "cell_type": "markdown",
      "metadata": {
        "id": "9SGJKgblOO9g"
      },
      "source": [
        "Given a complete network A with N nodes, and a bipartite network B also with N nodes, which of the following holds true for any $N > 2$:\n",
        "1.   Network A has more links than network B\n",
        "2.   Network A has the same number of links as network B\n",
        "3.   Network A has fewer links than network B\n",
        "4.   None of these hold true for all such $N > 2$"
      ]
    },
    {
      "cell_type": "markdown",
      "metadata": {
        "id": "cwF6C1uLOiWr"
      },
      "source": [
        "Answer:"
      ]
    },
    {
      "attachments": {},
      "cell_type": "markdown",
      "metadata": {},
      "source": [
        "1 - Network A has more links than network B, because for any N > 2:\n",
        "$$ (Amax = {N(N-1) \\over 2})  > (Bmax = {N_1 * N_2}) $$\n"
      ]
    },
    {
      "cell_type": "markdown",
      "metadata": {
        "id": "SKKotfslOluz"
      },
      "source": [
        "## Question 14\n",
        "\n"
      ]
    },
    {
      "attachments": {},
      "cell_type": "markdown",
      "metadata": {
        "id": "GMh5WvjiPwzv"
      },
      "source": [
        "Consider this adjacency matrix:\n",
        "\n",
        "<center><img width=\"300\" src=\"https://media.cheggcdn.com/comis/f3f/f3f361af-8ecd-4afe-b32f-4f7bac28a8db/769351-1-16IE1.png\"></center>\n",
        "\n",
        "An entry in the ith row and jth column indicates the weight of the link from node i to node j. For instance, the entry in the second row and third column is 2, meaning the weight of the link from node B to node C is 2. What kind of network does this matrix represent?\n",
        "1.   Undirected, unweighted\n",
        "2.   Undirected, weighted\n",
        "3.   Directed, unweighted\n",
        "4.   Directed, weighted\n"
      ]
    },
    {
      "cell_type": "markdown",
      "metadata": {
        "id": "UD5mRmSpRelN"
      },
      "source": [
        "Answer:"
      ]
    },
    {
      "attachments": {},
      "cell_type": "markdown",
      "metadata": {},
      "source": [
        "Undirected, weighted"
      ]
    },
    {
      "cell_type": "markdown",
      "metadata": {
        "id": "N92A04bZP6Uu"
      },
      "source": [
        "## Question 15"
      ]
    },
    {
      "cell_type": "markdown",
      "metadata": {
        "id": "MqTaMtfDRKY1"
      },
      "source": [
        "We have seen that Facebook’s network is incredibly sparse. Assume it has approximately 1 billion users, each with 1000 friends on average.\n",
        "\n",
        "1. Suppose Facebook releases its annual report and it shows that while the number of users in the network has stayed the same, the average number of friends per user has increased. Would this imply that the network density increased, decreased, or stayed the same?\n",
        "2. Suppose instead that both the number of users and the average number of friends per user doubled. Would this imply the network density increased, decreased, or stayed the same?\n",
        "\n"
      ]
    },
    {
      "cell_type": "markdown",
      "metadata": {
        "id": "tc14eV8jRXsu"
      },
      "source": [
        "Answer:"
      ]
    },
    {
      "attachments": {},
      "cell_type": "markdown",
      "metadata": {},
      "source": [
        "1 - Increased. Network density is a measure of how interconnected the nodes are in a network, that way, with the same number of users, but with more people links each other the relation that describes density increases.\n",
        "\n",
        "2 - Stayed the same. Density is calculated as the ratio of actual connections to the total possible connections in the network, and since both the numerator and denominator are doubling, the ratio remains the same.\n",
        "\n",
        "$$ d = {L \\over L_{max}} $$"
      ]
    },
    {
      "cell_type": "markdown",
      "metadata": {
        "id": "hzp00QnjRgxU"
      },
      "source": [
        "## Question 16"
      ]
    },
    {
      "cell_type": "markdown",
      "metadata": {
        "id": "9O0ElA4FR1sR"
      },
      "source": [
        "Netflix keeps data on customer preferences using a big bipartite network connecting users to titles. Suppose that from 2021 to 2022 Netflix’s library has remained the same size, while the number of users has increased. Further suppose that the average user’s degree in this network has remained constant. Has the density of this network increased, decreased, or stayed the same?"
      ]
    },
    {
      "cell_type": "markdown",
      "metadata": {
        "id": "UdewP6VvR6VD"
      },
      "source": [
        "Answer:"
      ]
    },
    {
      "cell_type": "markdown",
      "metadata": {
        "id": "3xO32cYISYkQ"
      },
      "source": [
        "# Exercise - Hands On (1,00 point for grade in Unit 02)"
      ]
    },
    {
      "cell_type": "markdown",
      "metadata": {
        "id": "-I9SonWrTIH-"
      },
      "source": [
        "Implementing all hands on using [NetworkX](https://networkx.org/)."
      ]
    },
    {
      "cell_type": "markdown",
      "metadata": {
        "id": "7if-CnFwSfPc"
      },
      "source": [
        "## Hands On 01"
      ]
    },
    {
      "cell_type": "markdown",
      "metadata": {
        "id": "SuO9vOYd9gFV"
      },
      "source": [
        "\n",
        "Often in the context of trees, a node with degree 1 is called a *leaf*. Write a function named `get_leaves` that takes a graph as an argument, loops through the nodes, and returns a list of nodes with degree 1."
      ]
    },
    {
      "cell_type": "code",
      "execution_count": null,
      "metadata": {
        "id": "FlGKqf0MmgnB",
        "scrolled": true
      },
      "outputs": [],
      "source": [
        "def get_leaves(G):\n",
        "  # PUT YOUR CODE HERE"
      ]
    },
    {
      "cell_type": "code",
      "execution_count": null,
      "metadata": {
        "id": "mVBLr5_xmgnB",
        "scrolled": true
      },
      "outputs": [],
      "source": [
        "# this block of code is only for networkx adapt it for graph-tool\n",
        "G = nx.Graph()\n",
        "G.add_edges_from([\n",
        "        ('a', 'b'),\n",
        "        ('a', 'd'),\n",
        "        ('c', 'd'),\n",
        "    ])\n",
        "assert set(get_leaves(G)) == {'c', 'b'}"
      ]
    },
    {
      "cell_type": "markdown",
      "metadata": {
        "id": "TcYdyCnEmgnD"
      },
      "source": [
        "## Hands On 02"
      ]
    },
    {
      "cell_type": "markdown",
      "metadata": {
        "id": "MsE6DTbI9m4t"
      },
      "source": [
        "\n",
        "Write a function max_degree that takes a graph as its argument, and returns a 2-tuple with the name and degree of the node with highest degree."
      ]
    },
    {
      "cell_type": "code",
      "execution_count": null,
      "metadata": {
        "id": "DLufczZQmgnD",
        "scrolled": false
      },
      "outputs": [],
      "source": [
        "def max_degree(G):\n",
        "    # PUT YOUR CODE HERE"
      ]
    },
    {
      "cell_type": "code",
      "execution_count": null,
      "metadata": {
        "id": "RuDfvFb3PmWI"
      },
      "outputs": [],
      "source": [
        "import gdown\n",
        "\n",
        "url = 'https://drive.google.com/uc?id=14AMuGDPHac7FOOr7Stw2Jh-l-IWb7n8D'\n",
        "output = 'friends.adjlist'\n",
        "gdown.download(url, output, quiet=False)"
      ]
    },
    {
      "cell_type": "code",
      "execution_count": null,
      "metadata": {
        "id": "aEQapPYNmgnD",
        "scrolled": false
      },
      "outputs": [],
      "source": [
        "# this block of code is only for networkx adapt it for graph-tool\n",
        "SG = nx.read_adjlist('friends.adjlist')\n",
        "assert max_degree(SG) == ('Claire', 4)"
      ]
    },
    {
      "cell_type": "markdown",
      "metadata": {
        "id": "MCDbNldnmgnD"
      },
      "source": [
        "## Hands on 03"
      ]
    },
    {
      "cell_type": "markdown",
      "metadata": {
        "id": "RWup3uDm9n5I"
      },
      "source": [
        "\n",
        "Write a function `mutual_friends` that takes a graph and two nodes as arguments, and returns a list (or set) of nodes that are linked to both given nodes. For example, in the graph `SG` drawn above,\n",
        "\n",
        "    mutual_friends(SG, 'Alice', 'Claire') == ['Frank']\n",
        "\n",
        "an empty list or set should be returned in the case where two nodes have no mutual friends, e.g. George and Bob in `SG` drawn above."
      ]
    },
    {
      "cell_type": "code",
      "execution_count": null,
      "metadata": {
        "id": "hpnX9YeKmgnD",
        "scrolled": false
      },
      "outputs": [],
      "source": [
        "def mutual_friends(G, node_1, node_2):\n",
        "  # PUT YOUR CODE HERE"
      ]
    },
    {
      "cell_type": "code",
      "execution_count": null,
      "metadata": {
        "id": "B2n0vCRYmgnE",
        "scrolled": true
      },
      "outputs": [],
      "source": [
        "# this block of code is only for networkx adapt it for graph-tool\n",
        "SG = nx.read_adjlist('friends.adjlist')\n",
        "assert mutual_friends(SG, 'Alice', 'Claire') == ['Frank']\n",
        "assert mutual_friends(SG, 'George', 'Bob') == []\n",
        "assert sorted(mutual_friends(SG, 'Claire', 'George')) == ['Dennis', 'Frank']"
      ]
    }
  ],
  "metadata": {
    "colab": {
      "collapsed_sections": [
        "QPVskC76LUtF",
        "ZT5mLS7-Lsb2",
        "4-bIhQwpMVs3",
        "S4Ga_yyYNBBo",
        "hct-5tQwNg5_",
        "--K9oj5YNrjz",
        "cER1jb6SN8NF",
        "RN4CfOSqOK_1",
        "SKKotfslOluz",
        "N92A04bZP6Uu",
        "hzp00QnjRgxU",
        "7if-CnFwSfPc",
        "TcYdyCnEmgnD",
        "MCDbNldnmgnD"
      ],
      "provenance": []
    },
    "kernelspec": {
      "display_name": "Python 3",
      "name": "python3"
    },
    "language_info": {
      "name": "python"
    }
  },
  "nbformat": 4,
  "nbformat_minor": 0
}

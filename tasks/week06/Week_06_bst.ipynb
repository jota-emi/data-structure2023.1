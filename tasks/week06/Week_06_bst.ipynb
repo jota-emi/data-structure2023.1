{
  "cells": [
    {
      "cell_type": "markdown",
      "metadata": {
        "id": "TStrq7KQAEuF"
      },
      "source": [
        "# 1.0 Introduction"
      ]
    },
    {
      "cell_type": "markdown",
      "metadata": {
        "id": "H6LU4R9KCjPn"
      },
      "source": [
        "## About this notebook"
      ]
    },
    {
      "cell_type": "markdown",
      "metadata": {
        "id": "H_wrJZEXD2-v"
      },
      "source": [
        "Now, we will focus on **Binary Search Tree (BST) problems**.\n",
        "\n",
        "I am excited to present to you a set of coding interview questions that are organized into three levels of difficulty: 🔥 Hard, ⚠️ Medium, and 😃 Easy. Each question comes with a description, the related data structure, tips, and an initial code with its respective unit test.\n",
        "\n",
        "While these questions may seem challenging, I encourage you to approach them with a positive attitude and an open mind. Remember that the process of solving these questions is just as important as finding the answer. Through this process, you will develop your problem-solving skills, strengthen your understanding of data structures, and improve your coding abilities.\n",
        "\n",
        "As you work on these questions, I encourage you to co-create the solutions with the help of ChatGPT. ChatGPT is a powerful tool that can provide guidance, feedback, and additional resources to support your learning journey. Don't hesitate to ask ChatGPT for help if you get stuck or need additional clarification.\n",
        "\n",
        "Additionally, I encourage you to collaborate with your classmates on these questions. Working in groups can provide a supportive learning environment where you can bounce ideas off each other, learn from different perspectives, and develop your communication skills."
      ]
    },
    {
      "cell_type": "code",
      "execution_count": 1,
      "metadata": {
        "id": "Zc9nX3WvHzI5"
      },
      "outputs": [
        {
          "name": "stdout",
          "output_type": "stream",
          "text": [
            "Requirement already satisfied: pytest in c:\\users\\j_mar\\appdata\\local\\programs\\python\\python39\\lib\\site-packages (7.1.2)\n"
          ]
        },
        {
          "name": "stderr",
          "output_type": "stream",
          "text": [
            "WARNING: Ignoring invalid distribution -illow (c:\\users\\j_mar\\appdata\\local\\programs\\python\\python39\\lib\\site-packages)\n",
            "WARNING: Ignoring invalid distribution -illow (c:\\users\\j_mar\\appdata\\local\\programs\\python\\python39\\lib\\site-packages)\n",
            "WARNING: Ignoring invalid distribution -illow (c:\\users\\j_mar\\appdata\\local\\programs\\python\\python39\\lib\\site-packages)\n",
            "WARNING: Ignoring invalid distribution -illow (c:\\users\\j_mar\\appdata\\local\\programs\\python\\python39\\lib\\site-packages)\n",
            "WARNING: Ignoring invalid distribution -illow (c:\\users\\j_mar\\appdata\\local\\programs\\python\\python39\\lib\\site-packages)\n",
            "WARNING: Ignoring invalid distribution -illow (c:\\users\\j_mar\\appdata\\local\\programs\\python\\python39\\lib\\site-packages)\n",
            "WARNING: You are using pip version 21.3.1; however, version 23.1.2 is available.\n",
            "You should consider upgrading via the 'C:\\users\\j_mar\\appdata\\local\\programs\\python\\python39\\python.exe -m pip install --upgrade pip' command."
          ]
        },
        {
          "name": "stdout",
          "output_type": "stream",
          "text": [
            "Requirement already satisfied: pytest-sugar in c:\\users\\j_mar\\appdata\\local\\programs\\python\\python39\\lib\\site-packages (0.9.7)\n",
            "Requirement already satisfied: packaging in c:\\users\\j_mar\\appdata\\local\\programs\\python\\python39\\lib\\site-packages (from pytest) (23.1)\n",
            "Requirement already satisfied: py>=1.8.2 in c:\\users\\j_mar\\appdata\\local\\programs\\python\\python39\\lib\\site-packages (from pytest) (1.11.0)\n",
            "Requirement already satisfied: tomli>=1.0.0 in c:\\users\\j_mar\\appdata\\local\\programs\\python\\python39\\lib\\site-packages (from pytest) (2.0.1)\n",
            "Requirement already satisfied: pluggy<2.0,>=0.12 in c:\\users\\j_mar\\appdata\\local\\programs\\python\\python39\\lib\\site-packages (from pytest) (1.0.0)\n",
            "Requirement already satisfied: colorama in c:\\users\\j_mar\\appdata\\local\\programs\\python\\python39\\lib\\site-packages (from pytest) (0.4.4)\n",
            "Requirement already satisfied: attrs>=19.2.0 in c:\\users\\j_mar\\appdata\\local\\programs\\python\\python39\\lib\\site-packages (from pytest) (20.3.0)\n",
            "Requirement already satisfied: atomicwrites>=1.0 in c:\\users\\j_mar\\appdata\\local\\programs\\python\\python39\\lib\\site-packages (from pytest) (1.4.0)\n",
            "Requirement already satisfied: iniconfig in c:\\users\\j_mar\\appdata\\local\\programs\\python\\python39\\lib\\site-packages (from pytest) (1.1.1)\n",
            "Requirement already satisfied: termcolor>=2.1.0 in c:\\users\\j_mar\\appdata\\roaming\\python\\python39\\site-packages (from pytest-sugar) (2.2.0)\n"
          ]
        },
        {
          "name": "stderr",
          "output_type": "stream",
          "text": [
            "\n"
          ]
        }
      ],
      "source": [
        "# install dependencies\n",
        "!pip install pytest pytest-sugar"
      ]
    },
    {
      "cell_type": "markdown",
      "metadata": {
        "id": "b4duiyrwV7Qe"
      },
      "source": [
        "# 2.0 Binary Search Tree"
      ]
    },
    {
      "cell_type": "markdown",
      "metadata": {
        "id": "-C6drHekWSuH"
      },
      "source": [
        "## Validate Three Nodes"
      ]
    },
    {
      "cell_type": "markdown",
      "metadata": {
        "id": "lfqOHa75WCdY"
      },
      "source": [
        "**Difficult**: ⚠️ Medium to Hard\n",
        "\n",
        "\n",
        "You're given **three nodes** that are contained in the same **Binary Search Tree**: ``nodeOne``, ``nodeTwo`` and ``nodeThree``. \n",
        "\n",
        "> Write a function that **returns** a ``boolean`` representing whether one of ``nodeOne`` or ``nodeThree`` is an **ancestor** of ``nodeTwo`` and the other node is a **descendant** of ``nodeTwo``. \n",
        "\n",
        "- For example, if your function determines that ``nodeOne`` is an **ancestor** of ``nodeTwo``, then it needs to see if ``nodeThree`` is a **descendant** of ``nodeTwo``.\n",
        "- If your function determines that ``nodeThree`` is an **ancestor**, then it needs to see if ``nodeOne`` is a **descendant**.\n",
        "\n",
        "A **descendant** of a node ``N`` is defined as a node contained in the tree **rooted** at ``N``. A node ``N`` is an **ancestor** of another node ``M`` if ``M`` is a **descendant** of ``N``.\n",
        "\n",
        "It isn't guaranteed that ``nodeOne`` or ``nodeThree`` will be **ancestors** or **descendants** of ``nodeTwo``, but it is guaranteed that all three nodes will be unique and will never be **None**/**null**. In other words, you'll be given valid input nodes.\n",
        "Each **Binary Search Tree (BST)** node has an integer **value**, a **left child node**, and a **right child node**. A node is said to be a valid BST node if and only if it satisfies the BST property: \n",
        "- its value is strictly greater than the values of every node to its left;\n",
        "- its value is less than or equal to the values of every node to its right; and its children nodes are either valid BST nodes themselves or **None**/**null**."
      ]
    },
    {
      "cell_type": "markdown",
      "metadata": {
        "id": "QpNrgRzxWMxQ"
      },
      "source": [
        "**Sample Input**\n",
        "```python\n",
        " tree =   5\n",
        "       /     \\\n",
        "      2       7\n",
        "    /   \\   /   \\\n",
        "   1     4 6     8\n",
        "  /     /\n",
        " 0     3  \n",
        "\n",
        "// This tree won't actually be passed as an input; it's here to help you visualize the problem. \n",
        "nodeOne = 5 // The actual node with value 5\n",
        "nodeTwo = 2 // The actual node with value 2\n",
        "nodeThree = 3 // The actual node with value 3.\n",
        "```\n",
        "\n",
        "**Sample Output**\n",
        "\n",
        "```python\n",
        "true // nodeOne is an ancestor of nodeTwo, and nodeThree is a descendant of nodeTwo.\n",
        "```"
      ]
    },
    {
      "cell_type": "markdown",
      "metadata": {
        "id": "drZ7ay5ZYzGe"
      },
      "source": [
        "**Hint 1**\n",
        "\n",
        "Keep in mind that the nodes passed to you are contained in a **Binary Search Tree** - not just a normal Binary Tree. How might this help you traverse the tree faster?"
      ]
    },
    {
      "cell_type": "markdown",
      "metadata": {
        "id": "zNSbVtclceIt"
      },
      "source": [
        "**Hint 2**\n",
        "\n",
        "There are multiple ways to solve this problem, but the simplest is to just check the possible relationships between the nodes. Since you're looking for a **descendant** and an **ancestor**, simply check if ``nodeOne`` is a **descendant** of ``nodeTwo``, and if it is, then check if ``nodeThree`` is an **ancestor** of ``nodeTwo``. If the previous checks come out negative, check if ``nodeThree`` is a **descendant** of ``nodeTwo``, and if it is, then check if ``nodeOne`` is an **ancestor** of ``nodeTwo``."
      ]
    },
    {
      "cell_type": "markdown",
      "metadata": {
        "id": "nbAgTPVPdDNn"
      },
      "source": [
        "**Hint 3**\n",
        "\n",
        "Although the approach mentioned in ``Hint #2`` is fairly efficient (it runs in ``O(h)`` time, where ``h`` is the height of the tree), there's a way to solve this problem faster. It involves realizing that, when searching for ``nodeTwo`` from either ``nodeOne`` or ``nodeThree``, if you ever reach ``nodeThree`` from ``nodeOne`` or ``nodeOne`` from ``nodeThree`` before reaching ``nodeTwo``, then you can immediately stop the algorithm, because ``nodeTwo`` cannot be between these nodes."
      ]
    },
    {
      "cell_type": "markdown",
      "metadata": {
        "id": "X2HuuKh7d4wX"
      },
      "source": [
        "**Optimal Space & Time Complexity**\n",
        "\n",
        "O(d) time | O(1) space - where ``d`` is the distance between ``nodeOne`` and ``nodeThree``."
      ]
    },
    {
      "cell_type": "markdown",
      "metadata": {
        "id": "Jur089c2eInl"
      },
      "source": [
        "## Classes definitions"
      ]
    },
    {
      "cell_type": "code",
      "execution_count": 5,
      "metadata": {
        "id": "3-Uk4i-Mfmxn"
      },
      "outputs": [
        {
          "name": "stdout",
          "output_type": "stream",
          "text": [
            "Writing binarysearchtree.py\n"
          ]
        }
      ],
      "source": [
        "%%file binarysearchtree.py\n",
        "import plotly.graph_objs as go\n",
        "\n",
        "class Node:\n",
        "    \"\"\"\n",
        "    A class representing a node in a binary search tree.\n",
        "\n",
        "    Attributes:\n",
        "    - value: the value of the node\n",
        "    - left_child: the left child of the node\n",
        "    - right_child: the right child of the node\n",
        "    \"\"\"\n",
        "\n",
        "    def __init__(self, value):\n",
        "        \"\"\"\n",
        "        Initializes a new instance of the Node class.\n",
        "\n",
        "        Args:\n",
        "        - value: the value of the node\n",
        "        \"\"\"\n",
        "        self.value = value\n",
        "        self.left_child = None\n",
        "        self.right_child = None\n",
        "\n",
        "\n",
        "class BST:\n",
        "    \"\"\"\n",
        "    A class representing a binary search tree.\n",
        "\n",
        "    Attributes:\n",
        "    - root: the root node of the tree\n",
        "    \"\"\"\n",
        "\n",
        "    def __init__(self):\n",
        "        \"\"\"\n",
        "        Initializes a new instance of the BST class.\n",
        "        \"\"\"\n",
        "        self.root = None\n",
        "\n",
        "    def add(self, value):\n",
        "        \"\"\"\n",
        "        Adds a new node with the given value to the tree.\n",
        "\n",
        "        Args:\n",
        "        - value: the value of the node to add\n",
        "        \"\"\"\n",
        "        if self.root is None:\n",
        "            # The root does exist yet, create it\n",
        "            self.root = Node(value)\n",
        "        else:\n",
        "            # Find the right place and insert new value\n",
        "            self._add_recursive(self.root, value)\n",
        "\n",
        "    def _add_recursive(self, current_node, value):\n",
        "        \"\"\"\n",
        "        A helper method to recursively traverse the tree and find the correct position to add the new node.\n",
        "\n",
        "        Args:\n",
        "        - current_node: the current node to traverse\n",
        "        - value: the value of the node to add\n",
        "        \"\"\"\n",
        "        if value <= current_node.value:\n",
        "            # Go to the left\n",
        "            if current_node.left_child is None:\n",
        "                current_node.left_child = Node(value)\n",
        "            else:\n",
        "                self._add_recursive(current_node.left_child, value)\n",
        "        else:\n",
        "            # Go to the right\n",
        "            if current_node.right_child is None:\n",
        "                current_node.right_child = Node(value)\n",
        "            else:\n",
        "                self._add_recursive(current_node.right_child, value)\n",
        "\n",
        "    def _contains(self, current_node, value):\n",
        "        \"\"\"\n",
        "        A helper method to recursively traverse the tree and find the node with the given value.\n",
        "\n",
        "        Args:\n",
        "        - current_node: the current node to traverse\n",
        "        - value: the value to search for\n",
        "\n",
        "        Returns:\n",
        "        - True if a node with the given value is found, False otherwise\n",
        "        \"\"\"\n",
        "        if current_node is None:\n",
        "            return False\n",
        "        if current_node.value == value:\n",
        "            return True\n",
        "        if value < current_node.value:\n",
        "            return self._contains(current_node.left_child, value)\n",
        "        return self._contains(current_node.right_child, value)\n",
        "\n",
        "    def contains(self, value):\n",
        "        \"\"\"\n",
        "        Checks whether a node with the given value is present in the tree.\n",
        "\n",
        "        Args:\n",
        "        - value: the value to search for\n",
        "\n",
        "        Returns:\n",
        "        - True if a node with the given value is found, False otherwise\n",
        "        \"\"\"\n",
        "        return self._contains(self.root, value)\n",
        "\n",
        "    def plot(self):\n",
        "        \"\"\"\n",
        "        Plots the binary search tree using Plotly.\n",
        "        \"\"\"\n",
        "        if self.root is None:\n",
        "            print(\"The tree is empty!\")\n",
        "            return\n",
        "\n",
        "        # Initialize lists for coordinates and connections\n",
        "        node_coords = []\n",
        "        lines = []\n",
        "\n",
        "        # Helper function to traverse the tree and fill the coordinate and connection lists\n",
        "        def _plot_recursive(node, x, y, offset):\n",
        "            if node is not None:\n",
        "                node_coords.append((x, y, node.value))\n",
        "                if node.left_child is not None:\n",
        "                    new_x = x - offset\n",
        "                    new_y = y - 1\n",
        "                    lines.append((x, y, new_x, new_y))\n",
        "                    _plot_recursive(node.left_child, new_x, new_y, offset / 2)\n",
        "                if node.right_child is not None:\n",
        "                    new_x = x + offset\n",
        "                    new_y = y - 1\n",
        "                    lines.append((x, y, new_x, new_y))\n",
        "                    _plot_recursive(node.right_child, new_x, new_y, offset / 2)\n",
        "\n",
        "        # Traverse the tree starting from the root node\n",
        "        _plot_recursive(self.root, x=0, y=0, offset=0.5)\n",
        "\n",
        "        # Create a scatter plot for the nodes\n",
        "        node_trace = go.Scatter(x=[x for x, y, _ in node_coords],\n",
        "                                y=[y for _, y, _ in node_coords],\n",
        "                                text=[str(val) for _, _, val in node_coords],\n",
        "                                mode='markers+text',\n",
        "                                textposition='top center',\n",
        "                                marker=dict(symbol='circle',\n",
        "                                            size=20,\n",
        "                                            color='darkblue'))\n",
        "\n",
        "        # Create a scatter plot for the connections between nodes\n",
        "        line_trace = go.Scatter(x=sum([[x1, x2, None] for x1, y1, x2, y2 in lines], []),\n",
        "                                y=sum([[y1, y2, None] for x1, y1, x2, y2 in lines], []),\n",
        "                                mode='lines',\n",
        "                                line=dict(color='black'))\n",
        "\n",
        "        # Combine the two scatter plots\n",
        "        layout = go.Layout(title='',\n",
        "                           xaxis=dict(title='', showgrid=False, zeroline=False, showticklabels=False),\n",
        "                           yaxis=dict(title='', showgrid=False, zeroline=False, showticklabels=False),\n",
        "                           showlegend=False)\n",
        "\n",
        "        fig = go.Figure(data=[node_trace, line_trace], layout=layout)\n",
        "        fig.show()"
      ]
    },
    {
      "cell_type": "code",
      "execution_count": 40,
      "metadata": {
        "colab": {
          "base_uri": "https://localhost:8080/",
          "height": 542
        },
        "id": "Hh933QK5fsCQ",
        "outputId": "b5b24c37-4b44-4f5a-e520-7f17b8672e83"
      },
      "outputs": [
        {
          "data": {
            "application/vnd.plotly.v1+json": {
              "config": {
                "plotlyServerURL": "https://plot.ly"
              },
              "data": [
                {
                  "marker": {
                    "color": "darkblue",
                    "size": 20,
                    "symbol": "circle"
                  },
                  "mode": "markers+text",
                  "text": [
                    "5",
                    "3",
                    "1",
                    "0",
                    "2",
                    "4",
                    "7",
                    "6",
                    "8"
                  ],
                  "textposition": "top center",
                  "type": "scatter",
                  "x": [
                    0,
                    -0.5,
                    -0.75,
                    -0.875,
                    -0.625,
                    -0.25,
                    0.5,
                    0.25,
                    0.75
                  ],
                  "y": [
                    0,
                    -1,
                    -2,
                    -3,
                    -3,
                    -2,
                    -1,
                    -2,
                    -2
                  ]
                },
                {
                  "line": {
                    "color": "black"
                  },
                  "mode": "lines",
                  "type": "scatter",
                  "x": [
                    0,
                    -0.5,
                    null,
                    -0.5,
                    -0.75,
                    null,
                    -0.75,
                    -0.875,
                    null,
                    -0.75,
                    -0.625,
                    null,
                    -0.5,
                    -0.25,
                    null,
                    0,
                    0.5,
                    null,
                    0.5,
                    0.25,
                    null,
                    0.5,
                    0.75,
                    null
                  ],
                  "y": [
                    0,
                    -1,
                    null,
                    -1,
                    -2,
                    null,
                    -2,
                    -3,
                    null,
                    -2,
                    -3,
                    null,
                    -1,
                    -2,
                    null,
                    0,
                    -1,
                    null,
                    -1,
                    -2,
                    null,
                    -1,
                    -2,
                    null
                  ]
                }
              ],
              "layout": {
                "showlegend": false,
                "template": {
                  "data": {
                    "bar": [
                      {
                        "error_x": {
                          "color": "#2a3f5f"
                        },
                        "error_y": {
                          "color": "#2a3f5f"
                        },
                        "marker": {
                          "line": {
                            "color": "#E5ECF6",
                            "width": 0.5
                          },
                          "pattern": {
                            "fillmode": "overlay",
                            "size": 10,
                            "solidity": 0.2
                          }
                        },
                        "type": "bar"
                      }
                    ],
                    "barpolar": [
                      {
                        "marker": {
                          "line": {
                            "color": "#E5ECF6",
                            "width": 0.5
                          },
                          "pattern": {
                            "fillmode": "overlay",
                            "size": 10,
                            "solidity": 0.2
                          }
                        },
                        "type": "barpolar"
                      }
                    ],
                    "carpet": [
                      {
                        "aaxis": {
                          "endlinecolor": "#2a3f5f",
                          "gridcolor": "white",
                          "linecolor": "white",
                          "minorgridcolor": "white",
                          "startlinecolor": "#2a3f5f"
                        },
                        "baxis": {
                          "endlinecolor": "#2a3f5f",
                          "gridcolor": "white",
                          "linecolor": "white",
                          "minorgridcolor": "white",
                          "startlinecolor": "#2a3f5f"
                        },
                        "type": "carpet"
                      }
                    ],
                    "choropleth": [
                      {
                        "colorbar": {
                          "outlinewidth": 0,
                          "ticks": ""
                        },
                        "type": "choropleth"
                      }
                    ],
                    "contour": [
                      {
                        "colorbar": {
                          "outlinewidth": 0,
                          "ticks": ""
                        },
                        "colorscale": [
                          [
                            0,
                            "#0d0887"
                          ],
                          [
                            0.1111111111111111,
                            "#46039f"
                          ],
                          [
                            0.2222222222222222,
                            "#7201a8"
                          ],
                          [
                            0.3333333333333333,
                            "#9c179e"
                          ],
                          [
                            0.4444444444444444,
                            "#bd3786"
                          ],
                          [
                            0.5555555555555556,
                            "#d8576b"
                          ],
                          [
                            0.6666666666666666,
                            "#ed7953"
                          ],
                          [
                            0.7777777777777778,
                            "#fb9f3a"
                          ],
                          [
                            0.8888888888888888,
                            "#fdca26"
                          ],
                          [
                            1,
                            "#f0f921"
                          ]
                        ],
                        "type": "contour"
                      }
                    ],
                    "contourcarpet": [
                      {
                        "colorbar": {
                          "outlinewidth": 0,
                          "ticks": ""
                        },
                        "type": "contourcarpet"
                      }
                    ],
                    "heatmap": [
                      {
                        "colorbar": {
                          "outlinewidth": 0,
                          "ticks": ""
                        },
                        "colorscale": [
                          [
                            0,
                            "#0d0887"
                          ],
                          [
                            0.1111111111111111,
                            "#46039f"
                          ],
                          [
                            0.2222222222222222,
                            "#7201a8"
                          ],
                          [
                            0.3333333333333333,
                            "#9c179e"
                          ],
                          [
                            0.4444444444444444,
                            "#bd3786"
                          ],
                          [
                            0.5555555555555556,
                            "#d8576b"
                          ],
                          [
                            0.6666666666666666,
                            "#ed7953"
                          ],
                          [
                            0.7777777777777778,
                            "#fb9f3a"
                          ],
                          [
                            0.8888888888888888,
                            "#fdca26"
                          ],
                          [
                            1,
                            "#f0f921"
                          ]
                        ],
                        "type": "heatmap"
                      }
                    ],
                    "heatmapgl": [
                      {
                        "colorbar": {
                          "outlinewidth": 0,
                          "ticks": ""
                        },
                        "colorscale": [
                          [
                            0,
                            "#0d0887"
                          ],
                          [
                            0.1111111111111111,
                            "#46039f"
                          ],
                          [
                            0.2222222222222222,
                            "#7201a8"
                          ],
                          [
                            0.3333333333333333,
                            "#9c179e"
                          ],
                          [
                            0.4444444444444444,
                            "#bd3786"
                          ],
                          [
                            0.5555555555555556,
                            "#d8576b"
                          ],
                          [
                            0.6666666666666666,
                            "#ed7953"
                          ],
                          [
                            0.7777777777777778,
                            "#fb9f3a"
                          ],
                          [
                            0.8888888888888888,
                            "#fdca26"
                          ],
                          [
                            1,
                            "#f0f921"
                          ]
                        ],
                        "type": "heatmapgl"
                      }
                    ],
                    "histogram": [
                      {
                        "marker": {
                          "pattern": {
                            "fillmode": "overlay",
                            "size": 10,
                            "solidity": 0.2
                          }
                        },
                        "type": "histogram"
                      }
                    ],
                    "histogram2d": [
                      {
                        "colorbar": {
                          "outlinewidth": 0,
                          "ticks": ""
                        },
                        "colorscale": [
                          [
                            0,
                            "#0d0887"
                          ],
                          [
                            0.1111111111111111,
                            "#46039f"
                          ],
                          [
                            0.2222222222222222,
                            "#7201a8"
                          ],
                          [
                            0.3333333333333333,
                            "#9c179e"
                          ],
                          [
                            0.4444444444444444,
                            "#bd3786"
                          ],
                          [
                            0.5555555555555556,
                            "#d8576b"
                          ],
                          [
                            0.6666666666666666,
                            "#ed7953"
                          ],
                          [
                            0.7777777777777778,
                            "#fb9f3a"
                          ],
                          [
                            0.8888888888888888,
                            "#fdca26"
                          ],
                          [
                            1,
                            "#f0f921"
                          ]
                        ],
                        "type": "histogram2d"
                      }
                    ],
                    "histogram2dcontour": [
                      {
                        "colorbar": {
                          "outlinewidth": 0,
                          "ticks": ""
                        },
                        "colorscale": [
                          [
                            0,
                            "#0d0887"
                          ],
                          [
                            0.1111111111111111,
                            "#46039f"
                          ],
                          [
                            0.2222222222222222,
                            "#7201a8"
                          ],
                          [
                            0.3333333333333333,
                            "#9c179e"
                          ],
                          [
                            0.4444444444444444,
                            "#bd3786"
                          ],
                          [
                            0.5555555555555556,
                            "#d8576b"
                          ],
                          [
                            0.6666666666666666,
                            "#ed7953"
                          ],
                          [
                            0.7777777777777778,
                            "#fb9f3a"
                          ],
                          [
                            0.8888888888888888,
                            "#fdca26"
                          ],
                          [
                            1,
                            "#f0f921"
                          ]
                        ],
                        "type": "histogram2dcontour"
                      }
                    ],
                    "mesh3d": [
                      {
                        "colorbar": {
                          "outlinewidth": 0,
                          "ticks": ""
                        },
                        "type": "mesh3d"
                      }
                    ],
                    "parcoords": [
                      {
                        "line": {
                          "colorbar": {
                            "outlinewidth": 0,
                            "ticks": ""
                          }
                        },
                        "type": "parcoords"
                      }
                    ],
                    "pie": [
                      {
                        "automargin": true,
                        "type": "pie"
                      }
                    ],
                    "scatter": [
                      {
                        "marker": {
                          "colorbar": {
                            "outlinewidth": 0,
                            "ticks": ""
                          }
                        },
                        "type": "scatter"
                      }
                    ],
                    "scatter3d": [
                      {
                        "line": {
                          "colorbar": {
                            "outlinewidth": 0,
                            "ticks": ""
                          }
                        },
                        "marker": {
                          "colorbar": {
                            "outlinewidth": 0,
                            "ticks": ""
                          }
                        },
                        "type": "scatter3d"
                      }
                    ],
                    "scattercarpet": [
                      {
                        "marker": {
                          "colorbar": {
                            "outlinewidth": 0,
                            "ticks": ""
                          }
                        },
                        "type": "scattercarpet"
                      }
                    ],
                    "scattergeo": [
                      {
                        "marker": {
                          "colorbar": {
                            "outlinewidth": 0,
                            "ticks": ""
                          }
                        },
                        "type": "scattergeo"
                      }
                    ],
                    "scattergl": [
                      {
                        "marker": {
                          "colorbar": {
                            "outlinewidth": 0,
                            "ticks": ""
                          }
                        },
                        "type": "scattergl"
                      }
                    ],
                    "scattermapbox": [
                      {
                        "marker": {
                          "colorbar": {
                            "outlinewidth": 0,
                            "ticks": ""
                          }
                        },
                        "type": "scattermapbox"
                      }
                    ],
                    "scatterpolar": [
                      {
                        "marker": {
                          "colorbar": {
                            "outlinewidth": 0,
                            "ticks": ""
                          }
                        },
                        "type": "scatterpolar"
                      }
                    ],
                    "scatterpolargl": [
                      {
                        "marker": {
                          "colorbar": {
                            "outlinewidth": 0,
                            "ticks": ""
                          }
                        },
                        "type": "scatterpolargl"
                      }
                    ],
                    "scatterternary": [
                      {
                        "marker": {
                          "colorbar": {
                            "outlinewidth": 0,
                            "ticks": ""
                          }
                        },
                        "type": "scatterternary"
                      }
                    ],
                    "surface": [
                      {
                        "colorbar": {
                          "outlinewidth": 0,
                          "ticks": ""
                        },
                        "colorscale": [
                          [
                            0,
                            "#0d0887"
                          ],
                          [
                            0.1111111111111111,
                            "#46039f"
                          ],
                          [
                            0.2222222222222222,
                            "#7201a8"
                          ],
                          [
                            0.3333333333333333,
                            "#9c179e"
                          ],
                          [
                            0.4444444444444444,
                            "#bd3786"
                          ],
                          [
                            0.5555555555555556,
                            "#d8576b"
                          ],
                          [
                            0.6666666666666666,
                            "#ed7953"
                          ],
                          [
                            0.7777777777777778,
                            "#fb9f3a"
                          ],
                          [
                            0.8888888888888888,
                            "#fdca26"
                          ],
                          [
                            1,
                            "#f0f921"
                          ]
                        ],
                        "type": "surface"
                      }
                    ],
                    "table": [
                      {
                        "cells": {
                          "fill": {
                            "color": "#EBF0F8"
                          },
                          "line": {
                            "color": "white"
                          }
                        },
                        "header": {
                          "fill": {
                            "color": "#C8D4E3"
                          },
                          "line": {
                            "color": "white"
                          }
                        },
                        "type": "table"
                      }
                    ]
                  },
                  "layout": {
                    "annotationdefaults": {
                      "arrowcolor": "#2a3f5f",
                      "arrowhead": 0,
                      "arrowwidth": 1
                    },
                    "autotypenumbers": "strict",
                    "coloraxis": {
                      "colorbar": {
                        "outlinewidth": 0,
                        "ticks": ""
                      }
                    },
                    "colorscale": {
                      "diverging": [
                        [
                          0,
                          "#8e0152"
                        ],
                        [
                          0.1,
                          "#c51b7d"
                        ],
                        [
                          0.2,
                          "#de77ae"
                        ],
                        [
                          0.3,
                          "#f1b6da"
                        ],
                        [
                          0.4,
                          "#fde0ef"
                        ],
                        [
                          0.5,
                          "#f7f7f7"
                        ],
                        [
                          0.6,
                          "#e6f5d0"
                        ],
                        [
                          0.7,
                          "#b8e186"
                        ],
                        [
                          0.8,
                          "#7fbc41"
                        ],
                        [
                          0.9,
                          "#4d9221"
                        ],
                        [
                          1,
                          "#276419"
                        ]
                      ],
                      "sequential": [
                        [
                          0,
                          "#0d0887"
                        ],
                        [
                          0.1111111111111111,
                          "#46039f"
                        ],
                        [
                          0.2222222222222222,
                          "#7201a8"
                        ],
                        [
                          0.3333333333333333,
                          "#9c179e"
                        ],
                        [
                          0.4444444444444444,
                          "#bd3786"
                        ],
                        [
                          0.5555555555555556,
                          "#d8576b"
                        ],
                        [
                          0.6666666666666666,
                          "#ed7953"
                        ],
                        [
                          0.7777777777777778,
                          "#fb9f3a"
                        ],
                        [
                          0.8888888888888888,
                          "#fdca26"
                        ],
                        [
                          1,
                          "#f0f921"
                        ]
                      ],
                      "sequentialminus": [
                        [
                          0,
                          "#0d0887"
                        ],
                        [
                          0.1111111111111111,
                          "#46039f"
                        ],
                        [
                          0.2222222222222222,
                          "#7201a8"
                        ],
                        [
                          0.3333333333333333,
                          "#9c179e"
                        ],
                        [
                          0.4444444444444444,
                          "#bd3786"
                        ],
                        [
                          0.5555555555555556,
                          "#d8576b"
                        ],
                        [
                          0.6666666666666666,
                          "#ed7953"
                        ],
                        [
                          0.7777777777777778,
                          "#fb9f3a"
                        ],
                        [
                          0.8888888888888888,
                          "#fdca26"
                        ],
                        [
                          1,
                          "#f0f921"
                        ]
                      ]
                    },
                    "colorway": [
                      "#636efa",
                      "#EF553B",
                      "#00cc96",
                      "#ab63fa",
                      "#FFA15A",
                      "#19d3f3",
                      "#FF6692",
                      "#B6E880",
                      "#FF97FF",
                      "#FECB52"
                    ],
                    "font": {
                      "color": "#2a3f5f"
                    },
                    "geo": {
                      "bgcolor": "white",
                      "lakecolor": "white",
                      "landcolor": "#E5ECF6",
                      "showlakes": true,
                      "showland": true,
                      "subunitcolor": "white"
                    },
                    "hoverlabel": {
                      "align": "left"
                    },
                    "hovermode": "closest",
                    "mapbox": {
                      "style": "light"
                    },
                    "paper_bgcolor": "white",
                    "plot_bgcolor": "#E5ECF6",
                    "polar": {
                      "angularaxis": {
                        "gridcolor": "white",
                        "linecolor": "white",
                        "ticks": ""
                      },
                      "bgcolor": "#E5ECF6",
                      "radialaxis": {
                        "gridcolor": "white",
                        "linecolor": "white",
                        "ticks": ""
                      }
                    },
                    "scene": {
                      "xaxis": {
                        "backgroundcolor": "#E5ECF6",
                        "gridcolor": "white",
                        "gridwidth": 2,
                        "linecolor": "white",
                        "showbackground": true,
                        "ticks": "",
                        "zerolinecolor": "white"
                      },
                      "yaxis": {
                        "backgroundcolor": "#E5ECF6",
                        "gridcolor": "white",
                        "gridwidth": 2,
                        "linecolor": "white",
                        "showbackground": true,
                        "ticks": "",
                        "zerolinecolor": "white"
                      },
                      "zaxis": {
                        "backgroundcolor": "#E5ECF6",
                        "gridcolor": "white",
                        "gridwidth": 2,
                        "linecolor": "white",
                        "showbackground": true,
                        "ticks": "",
                        "zerolinecolor": "white"
                      }
                    },
                    "shapedefaults": {
                      "line": {
                        "color": "#2a3f5f"
                      }
                    },
                    "ternary": {
                      "aaxis": {
                        "gridcolor": "white",
                        "linecolor": "white",
                        "ticks": ""
                      },
                      "baxis": {
                        "gridcolor": "white",
                        "linecolor": "white",
                        "ticks": ""
                      },
                      "bgcolor": "#E5ECF6",
                      "caxis": {
                        "gridcolor": "white",
                        "linecolor": "white",
                        "ticks": ""
                      }
                    },
                    "title": {
                      "x": 0.05
                    },
                    "xaxis": {
                      "automargin": true,
                      "gridcolor": "white",
                      "linecolor": "white",
                      "ticks": "",
                      "title": {
                        "standoff": 15
                      },
                      "zerolinecolor": "white",
                      "zerolinewidth": 2
                    },
                    "yaxis": {
                      "automargin": true,
                      "gridcolor": "white",
                      "linecolor": "white",
                      "ticks": "",
                      "title": {
                        "standoff": 15
                      },
                      "zerolinecolor": "white",
                      "zerolinewidth": 2
                    }
                  }
                },
                "title": {
                  "text": ""
                },
                "xaxis": {
                  "showgrid": false,
                  "showticklabels": false,
                  "title": {
                    "text": ""
                  },
                  "zeroline": false
                },
                "yaxis": {
                  "showgrid": false,
                  "showticklabels": false,
                  "title": {
                    "text": ""
                  },
                  "zeroline": false
                }
              }
            }
          },
          "metadata": {},
          "output_type": "display_data"
        }
      ],
      "source": [
        "# Example usage:\n",
        "bst = BST()\n",
        "for value in [5, 3, 1, 0, 2, 4, 7, 6, 8]:\n",
        "    bst.add(value)\n",
        "bst.plot()"
      ]
    },
    {
      "attachments": {},
      "cell_type": "markdown",
      "metadata": {},
      "source": [
        "## Debugging"
      ]
    },
    {
      "cell_type": "code",
      "execution_count": 58,
      "metadata": {},
      "outputs": [
        {
          "data": {
            "application/vnd.plotly.v1+json": {
              "config": {
                "plotlyServerURL": "https://plot.ly"
              },
              "data": [
                {
                  "marker": {
                    "color": "darkblue",
                    "size": 20,
                    "symbol": "circle"
                  },
                  "mode": "markers+text",
                  "text": [
                    "5",
                    "3",
                    "2",
                    "1",
                    "0",
                    "4",
                    "7",
                    "6",
                    "8"
                  ],
                  "textposition": "top center",
                  "type": "scatter",
                  "x": [
                    0,
                    -0.5,
                    -0.75,
                    -0.875,
                    -0.9375,
                    -0.25,
                    0.5,
                    0.25,
                    0.75
                  ],
                  "y": [
                    0,
                    -1,
                    -2,
                    -3,
                    -4,
                    -2,
                    -1,
                    -2,
                    -2
                  ]
                },
                {
                  "line": {
                    "color": "black"
                  },
                  "mode": "lines",
                  "type": "scatter",
                  "x": [
                    0,
                    -0.5,
                    null,
                    -0.5,
                    -0.75,
                    null,
                    -0.75,
                    -0.875,
                    null,
                    -0.875,
                    -0.9375,
                    null,
                    -0.5,
                    -0.25,
                    null,
                    0,
                    0.5,
                    null,
                    0.5,
                    0.25,
                    null,
                    0.5,
                    0.75,
                    null
                  ],
                  "y": [
                    0,
                    -1,
                    null,
                    -1,
                    -2,
                    null,
                    -2,
                    -3,
                    null,
                    -3,
                    -4,
                    null,
                    -1,
                    -2,
                    null,
                    0,
                    -1,
                    null,
                    -1,
                    -2,
                    null,
                    -1,
                    -2,
                    null
                  ]
                }
              ],
              "layout": {
                "showlegend": false,
                "template": {
                  "data": {
                    "bar": [
                      {
                        "error_x": {
                          "color": "#2a3f5f"
                        },
                        "error_y": {
                          "color": "#2a3f5f"
                        },
                        "marker": {
                          "line": {
                            "color": "#E5ECF6",
                            "width": 0.5
                          },
                          "pattern": {
                            "fillmode": "overlay",
                            "size": 10,
                            "solidity": 0.2
                          }
                        },
                        "type": "bar"
                      }
                    ],
                    "barpolar": [
                      {
                        "marker": {
                          "line": {
                            "color": "#E5ECF6",
                            "width": 0.5
                          },
                          "pattern": {
                            "fillmode": "overlay",
                            "size": 10,
                            "solidity": 0.2
                          }
                        },
                        "type": "barpolar"
                      }
                    ],
                    "carpet": [
                      {
                        "aaxis": {
                          "endlinecolor": "#2a3f5f",
                          "gridcolor": "white",
                          "linecolor": "white",
                          "minorgridcolor": "white",
                          "startlinecolor": "#2a3f5f"
                        },
                        "baxis": {
                          "endlinecolor": "#2a3f5f",
                          "gridcolor": "white",
                          "linecolor": "white",
                          "minorgridcolor": "white",
                          "startlinecolor": "#2a3f5f"
                        },
                        "type": "carpet"
                      }
                    ],
                    "choropleth": [
                      {
                        "colorbar": {
                          "outlinewidth": 0,
                          "ticks": ""
                        },
                        "type": "choropleth"
                      }
                    ],
                    "contour": [
                      {
                        "colorbar": {
                          "outlinewidth": 0,
                          "ticks": ""
                        },
                        "colorscale": [
                          [
                            0,
                            "#0d0887"
                          ],
                          [
                            0.1111111111111111,
                            "#46039f"
                          ],
                          [
                            0.2222222222222222,
                            "#7201a8"
                          ],
                          [
                            0.3333333333333333,
                            "#9c179e"
                          ],
                          [
                            0.4444444444444444,
                            "#bd3786"
                          ],
                          [
                            0.5555555555555556,
                            "#d8576b"
                          ],
                          [
                            0.6666666666666666,
                            "#ed7953"
                          ],
                          [
                            0.7777777777777778,
                            "#fb9f3a"
                          ],
                          [
                            0.8888888888888888,
                            "#fdca26"
                          ],
                          [
                            1,
                            "#f0f921"
                          ]
                        ],
                        "type": "contour"
                      }
                    ],
                    "contourcarpet": [
                      {
                        "colorbar": {
                          "outlinewidth": 0,
                          "ticks": ""
                        },
                        "type": "contourcarpet"
                      }
                    ],
                    "heatmap": [
                      {
                        "colorbar": {
                          "outlinewidth": 0,
                          "ticks": ""
                        },
                        "colorscale": [
                          [
                            0,
                            "#0d0887"
                          ],
                          [
                            0.1111111111111111,
                            "#46039f"
                          ],
                          [
                            0.2222222222222222,
                            "#7201a8"
                          ],
                          [
                            0.3333333333333333,
                            "#9c179e"
                          ],
                          [
                            0.4444444444444444,
                            "#bd3786"
                          ],
                          [
                            0.5555555555555556,
                            "#d8576b"
                          ],
                          [
                            0.6666666666666666,
                            "#ed7953"
                          ],
                          [
                            0.7777777777777778,
                            "#fb9f3a"
                          ],
                          [
                            0.8888888888888888,
                            "#fdca26"
                          ],
                          [
                            1,
                            "#f0f921"
                          ]
                        ],
                        "type": "heatmap"
                      }
                    ],
                    "heatmapgl": [
                      {
                        "colorbar": {
                          "outlinewidth": 0,
                          "ticks": ""
                        },
                        "colorscale": [
                          [
                            0,
                            "#0d0887"
                          ],
                          [
                            0.1111111111111111,
                            "#46039f"
                          ],
                          [
                            0.2222222222222222,
                            "#7201a8"
                          ],
                          [
                            0.3333333333333333,
                            "#9c179e"
                          ],
                          [
                            0.4444444444444444,
                            "#bd3786"
                          ],
                          [
                            0.5555555555555556,
                            "#d8576b"
                          ],
                          [
                            0.6666666666666666,
                            "#ed7953"
                          ],
                          [
                            0.7777777777777778,
                            "#fb9f3a"
                          ],
                          [
                            0.8888888888888888,
                            "#fdca26"
                          ],
                          [
                            1,
                            "#f0f921"
                          ]
                        ],
                        "type": "heatmapgl"
                      }
                    ],
                    "histogram": [
                      {
                        "marker": {
                          "pattern": {
                            "fillmode": "overlay",
                            "size": 10,
                            "solidity": 0.2
                          }
                        },
                        "type": "histogram"
                      }
                    ],
                    "histogram2d": [
                      {
                        "colorbar": {
                          "outlinewidth": 0,
                          "ticks": ""
                        },
                        "colorscale": [
                          [
                            0,
                            "#0d0887"
                          ],
                          [
                            0.1111111111111111,
                            "#46039f"
                          ],
                          [
                            0.2222222222222222,
                            "#7201a8"
                          ],
                          [
                            0.3333333333333333,
                            "#9c179e"
                          ],
                          [
                            0.4444444444444444,
                            "#bd3786"
                          ],
                          [
                            0.5555555555555556,
                            "#d8576b"
                          ],
                          [
                            0.6666666666666666,
                            "#ed7953"
                          ],
                          [
                            0.7777777777777778,
                            "#fb9f3a"
                          ],
                          [
                            0.8888888888888888,
                            "#fdca26"
                          ],
                          [
                            1,
                            "#f0f921"
                          ]
                        ],
                        "type": "histogram2d"
                      }
                    ],
                    "histogram2dcontour": [
                      {
                        "colorbar": {
                          "outlinewidth": 0,
                          "ticks": ""
                        },
                        "colorscale": [
                          [
                            0,
                            "#0d0887"
                          ],
                          [
                            0.1111111111111111,
                            "#46039f"
                          ],
                          [
                            0.2222222222222222,
                            "#7201a8"
                          ],
                          [
                            0.3333333333333333,
                            "#9c179e"
                          ],
                          [
                            0.4444444444444444,
                            "#bd3786"
                          ],
                          [
                            0.5555555555555556,
                            "#d8576b"
                          ],
                          [
                            0.6666666666666666,
                            "#ed7953"
                          ],
                          [
                            0.7777777777777778,
                            "#fb9f3a"
                          ],
                          [
                            0.8888888888888888,
                            "#fdca26"
                          ],
                          [
                            1,
                            "#f0f921"
                          ]
                        ],
                        "type": "histogram2dcontour"
                      }
                    ],
                    "mesh3d": [
                      {
                        "colorbar": {
                          "outlinewidth": 0,
                          "ticks": ""
                        },
                        "type": "mesh3d"
                      }
                    ],
                    "parcoords": [
                      {
                        "line": {
                          "colorbar": {
                            "outlinewidth": 0,
                            "ticks": ""
                          }
                        },
                        "type": "parcoords"
                      }
                    ],
                    "pie": [
                      {
                        "automargin": true,
                        "type": "pie"
                      }
                    ],
                    "scatter": [
                      {
                        "marker": {
                          "colorbar": {
                            "outlinewidth": 0,
                            "ticks": ""
                          }
                        },
                        "type": "scatter"
                      }
                    ],
                    "scatter3d": [
                      {
                        "line": {
                          "colorbar": {
                            "outlinewidth": 0,
                            "ticks": ""
                          }
                        },
                        "marker": {
                          "colorbar": {
                            "outlinewidth": 0,
                            "ticks": ""
                          }
                        },
                        "type": "scatter3d"
                      }
                    ],
                    "scattercarpet": [
                      {
                        "marker": {
                          "colorbar": {
                            "outlinewidth": 0,
                            "ticks": ""
                          }
                        },
                        "type": "scattercarpet"
                      }
                    ],
                    "scattergeo": [
                      {
                        "marker": {
                          "colorbar": {
                            "outlinewidth": 0,
                            "ticks": ""
                          }
                        },
                        "type": "scattergeo"
                      }
                    ],
                    "scattergl": [
                      {
                        "marker": {
                          "colorbar": {
                            "outlinewidth": 0,
                            "ticks": ""
                          }
                        },
                        "type": "scattergl"
                      }
                    ],
                    "scattermapbox": [
                      {
                        "marker": {
                          "colorbar": {
                            "outlinewidth": 0,
                            "ticks": ""
                          }
                        },
                        "type": "scattermapbox"
                      }
                    ],
                    "scatterpolar": [
                      {
                        "marker": {
                          "colorbar": {
                            "outlinewidth": 0,
                            "ticks": ""
                          }
                        },
                        "type": "scatterpolar"
                      }
                    ],
                    "scatterpolargl": [
                      {
                        "marker": {
                          "colorbar": {
                            "outlinewidth": 0,
                            "ticks": ""
                          }
                        },
                        "type": "scatterpolargl"
                      }
                    ],
                    "scatterternary": [
                      {
                        "marker": {
                          "colorbar": {
                            "outlinewidth": 0,
                            "ticks": ""
                          }
                        },
                        "type": "scatterternary"
                      }
                    ],
                    "surface": [
                      {
                        "colorbar": {
                          "outlinewidth": 0,
                          "ticks": ""
                        },
                        "colorscale": [
                          [
                            0,
                            "#0d0887"
                          ],
                          [
                            0.1111111111111111,
                            "#46039f"
                          ],
                          [
                            0.2222222222222222,
                            "#7201a8"
                          ],
                          [
                            0.3333333333333333,
                            "#9c179e"
                          ],
                          [
                            0.4444444444444444,
                            "#bd3786"
                          ],
                          [
                            0.5555555555555556,
                            "#d8576b"
                          ],
                          [
                            0.6666666666666666,
                            "#ed7953"
                          ],
                          [
                            0.7777777777777778,
                            "#fb9f3a"
                          ],
                          [
                            0.8888888888888888,
                            "#fdca26"
                          ],
                          [
                            1,
                            "#f0f921"
                          ]
                        ],
                        "type": "surface"
                      }
                    ],
                    "table": [
                      {
                        "cells": {
                          "fill": {
                            "color": "#EBF0F8"
                          },
                          "line": {
                            "color": "white"
                          }
                        },
                        "header": {
                          "fill": {
                            "color": "#C8D4E3"
                          },
                          "line": {
                            "color": "white"
                          }
                        },
                        "type": "table"
                      }
                    ]
                  },
                  "layout": {
                    "annotationdefaults": {
                      "arrowcolor": "#2a3f5f",
                      "arrowhead": 0,
                      "arrowwidth": 1
                    },
                    "autotypenumbers": "strict",
                    "coloraxis": {
                      "colorbar": {
                        "outlinewidth": 0,
                        "ticks": ""
                      }
                    },
                    "colorscale": {
                      "diverging": [
                        [
                          0,
                          "#8e0152"
                        ],
                        [
                          0.1,
                          "#c51b7d"
                        ],
                        [
                          0.2,
                          "#de77ae"
                        ],
                        [
                          0.3,
                          "#f1b6da"
                        ],
                        [
                          0.4,
                          "#fde0ef"
                        ],
                        [
                          0.5,
                          "#f7f7f7"
                        ],
                        [
                          0.6,
                          "#e6f5d0"
                        ],
                        [
                          0.7,
                          "#b8e186"
                        ],
                        [
                          0.8,
                          "#7fbc41"
                        ],
                        [
                          0.9,
                          "#4d9221"
                        ],
                        [
                          1,
                          "#276419"
                        ]
                      ],
                      "sequential": [
                        [
                          0,
                          "#0d0887"
                        ],
                        [
                          0.1111111111111111,
                          "#46039f"
                        ],
                        [
                          0.2222222222222222,
                          "#7201a8"
                        ],
                        [
                          0.3333333333333333,
                          "#9c179e"
                        ],
                        [
                          0.4444444444444444,
                          "#bd3786"
                        ],
                        [
                          0.5555555555555556,
                          "#d8576b"
                        ],
                        [
                          0.6666666666666666,
                          "#ed7953"
                        ],
                        [
                          0.7777777777777778,
                          "#fb9f3a"
                        ],
                        [
                          0.8888888888888888,
                          "#fdca26"
                        ],
                        [
                          1,
                          "#f0f921"
                        ]
                      ],
                      "sequentialminus": [
                        [
                          0,
                          "#0d0887"
                        ],
                        [
                          0.1111111111111111,
                          "#46039f"
                        ],
                        [
                          0.2222222222222222,
                          "#7201a8"
                        ],
                        [
                          0.3333333333333333,
                          "#9c179e"
                        ],
                        [
                          0.4444444444444444,
                          "#bd3786"
                        ],
                        [
                          0.5555555555555556,
                          "#d8576b"
                        ],
                        [
                          0.6666666666666666,
                          "#ed7953"
                        ],
                        [
                          0.7777777777777778,
                          "#fb9f3a"
                        ],
                        [
                          0.8888888888888888,
                          "#fdca26"
                        ],
                        [
                          1,
                          "#f0f921"
                        ]
                      ]
                    },
                    "colorway": [
                      "#636efa",
                      "#EF553B",
                      "#00cc96",
                      "#ab63fa",
                      "#FFA15A",
                      "#19d3f3",
                      "#FF6692",
                      "#B6E880",
                      "#FF97FF",
                      "#FECB52"
                    ],
                    "font": {
                      "color": "#2a3f5f"
                    },
                    "geo": {
                      "bgcolor": "white",
                      "lakecolor": "white",
                      "landcolor": "#E5ECF6",
                      "showlakes": true,
                      "showland": true,
                      "subunitcolor": "white"
                    },
                    "hoverlabel": {
                      "align": "left"
                    },
                    "hovermode": "closest",
                    "mapbox": {
                      "style": "light"
                    },
                    "paper_bgcolor": "white",
                    "plot_bgcolor": "#E5ECF6",
                    "polar": {
                      "angularaxis": {
                        "gridcolor": "white",
                        "linecolor": "white",
                        "ticks": ""
                      },
                      "bgcolor": "#E5ECF6",
                      "radialaxis": {
                        "gridcolor": "white",
                        "linecolor": "white",
                        "ticks": ""
                      }
                    },
                    "scene": {
                      "xaxis": {
                        "backgroundcolor": "#E5ECF6",
                        "gridcolor": "white",
                        "gridwidth": 2,
                        "linecolor": "white",
                        "showbackground": true,
                        "ticks": "",
                        "zerolinecolor": "white"
                      },
                      "yaxis": {
                        "backgroundcolor": "#E5ECF6",
                        "gridcolor": "white",
                        "gridwidth": 2,
                        "linecolor": "white",
                        "showbackground": true,
                        "ticks": "",
                        "zerolinecolor": "white"
                      },
                      "zaxis": {
                        "backgroundcolor": "#E5ECF6",
                        "gridcolor": "white",
                        "gridwidth": 2,
                        "linecolor": "white",
                        "showbackground": true,
                        "ticks": "",
                        "zerolinecolor": "white"
                      }
                    },
                    "shapedefaults": {
                      "line": {
                        "color": "#2a3f5f"
                      }
                    },
                    "ternary": {
                      "aaxis": {
                        "gridcolor": "white",
                        "linecolor": "white",
                        "ticks": ""
                      },
                      "baxis": {
                        "gridcolor": "white",
                        "linecolor": "white",
                        "ticks": ""
                      },
                      "bgcolor": "#E5ECF6",
                      "caxis": {
                        "gridcolor": "white",
                        "linecolor": "white",
                        "ticks": ""
                      }
                    },
                    "title": {
                      "x": 0.05
                    },
                    "xaxis": {
                      "automargin": true,
                      "gridcolor": "white",
                      "linecolor": "white",
                      "ticks": "",
                      "title": {
                        "standoff": 15
                      },
                      "zerolinecolor": "white",
                      "zerolinewidth": 2
                    },
                    "yaxis": {
                      "automargin": true,
                      "gridcolor": "white",
                      "linecolor": "white",
                      "ticks": "",
                      "title": {
                        "standoff": 15
                      },
                      "zerolinecolor": "white",
                      "zerolinewidth": 2
                    }
                  }
                },
                "title": {
                  "text": ""
                },
                "xaxis": {
                  "showgrid": false,
                  "showticklabels": false,
                  "title": {
                    "text": ""
                  },
                  "zeroline": false
                },
                "yaxis": {
                  "showgrid": false,
                  "showticklabels": false,
                  "title": {
                    "text": ""
                  },
                  "zeroline": false
                }
              }
            }
          },
          "metadata": {},
          "output_type": "display_data"
        },
        {
          "name": "stdout",
          "output_type": "stream",
          "text": [
            "Node two is descendant of node one:  True\n",
            "Node three is descendant of node two:  False\n",
            "Node one is descendant of node two:  False\n",
            "Node three is ascendant of node two:  False\n",
            "First case:  False\n",
            "Second case:  False\n"
          ]
        },
        {
          "data": {
            "text/plain": [
              "False"
            ]
          },
          "execution_count": 58,
          "metadata": {},
          "output_type": "execute_result"
        }
      ],
      "source": [
        "import pytest\n",
        "from binarysearchtree import *\n",
        "\n",
        "def validateThreeNodes(bst, valueOne, valueTwo, valueThree):\n",
        "    \"\"\"\n",
        "    Checks if the given three nodes have the required relationship in the Binary Search Tree.\n",
        "    \n",
        "    This function validates if either nodeTwo is a descendant of nodeOne and nodeThree is a descendant\n",
        "    of nodeTwo, or if nodeOne is a descendant of nodeTwo and nodeThree is an ascendant of nodeTwo.\n",
        "\n",
        "    Parameters:\n",
        "    bst (BST): he Binary Search Tree containing the nodes.\n",
        "    valueOne (int): The value of the first node.\n",
        "    valueTwo (int): The value of the second node.\n",
        "    valueThree (int): The value of the third node.\n",
        "\n",
        "    Returns:\n",
        "    bool: True if the given nodes have the required relationship, False otherwise.\n",
        "    \"\"\"\n",
        "    # Write your code here.\n",
        "\n",
        "    if not valueOne or not valueTwo or not valueThree:\n",
        "        return False\n",
        "    \n",
        "    def is_descendant(child_value, parent_value):\n",
        "        if child_value == parent_value:\n",
        "            return True\n",
        "        \n",
        "        current_node = bst.root\n",
        "        while current_node:\n",
        "            if current_node.value == parent_value:\n",
        "                break\n",
        "            \n",
        "            if child_value < current_node.value:\n",
        "                current_node = current_node.left_child\n",
        "            else:\n",
        "                current_node = current_node.right_child\n",
        "                \n",
        "        if not current_node:\n",
        "            return False\n",
        "        \n",
        "        #return bst._contains(child_value, current_node)\n",
        "        return bst._contains(current_node, child_value)\n",
        "    \n",
        "    def is_ascendant(parent_value, child_value):\n",
        "        return is_descendant(child_value, parent_value)\n",
        "    \n",
        "    print(\"Node two is descendant of node one: \", is_descendant(valueTwo, valueOne))\n",
        "    print(\"Node three is descendant of node two: \", is_descendant(valueThree, valueTwo))\n",
        "    \n",
        "    first_case = False\n",
        "    second_case = False\n",
        "    if is_descendant(valueTwo, valueOne) and is_descendant(valueThree, valueTwo):\n",
        "        first_case = True\n",
        "    \n",
        "    print(\"Node one is descendant of node two: \", is_descendant(valueOne, valueTwo))\n",
        "    print(\"Node three is ascendant of node two: \", is_ascendant(valueThree, valueTwo))\n",
        "    if is_descendant(valueOne, valueTwo) and is_ascendant(valueThree, valueTwo):\n",
        "        second_case = True\n",
        "    \n",
        "    print(\"First case: \", first_case)\n",
        "    print(\"Second case: \", second_case)\n",
        "    if first_case or second_case:\n",
        "        return True\n",
        "    \n",
        "    return False\n",
        "\n",
        "array = [[5, 2, 1, 0, 4, 3, 7, 6, 8],\n",
        "             [5, 3, 2, 1, 0, 4, 7, 6, 8],\n",
        "             [5, 3, 2, 1, 0, 4, 7, 6, 8],\n",
        "             [2, 1, 3, 4, 5, 6, 7, 8, 9],\n",
        "             [6, 4, 3, 1, 2, 8, 7, 9],\n",
        "             [2, 1, 3, 4],\n",
        "             [8, 4, 3, 2, 1, 10, 9, 14, 12, 11, 6, 7, 13],\n",
        "             [8, 7, 6, 5, 4, 3, 2, 1, 9],\n",
        "             [3, 2, 1],\n",
        "             [3, 2, 1],\n",
        "             [6, 4, 2, 1, 3, 5, 8, 7, 9],\n",
        "             [10, 6, 5, 3, 1, 2, 4, 8, 7, 9, 15, 14, 13, 11, 12, 18, 17, 16],\n",
        "             [10, 6, 5, 3, 1, 2, 4, 8, 7, 9, 15, 14, 13, 11, 12, 18, 17, 16],\n",
        "             [5, 3, 1, 0, 2, 4, 7, 6, 8],\n",
        "             [5, 3, 1, 0, 2, 4, 7, 6, 8]]\n",
        "\n",
        "bst = BST()\n",
        "for value in array[1]:\n",
        "    bst.add(value)\n",
        "bst.plot()\n",
        "validateThreeNodes(bst,5,8,1)\n"
      ]
    },
    {
      "attachments": {},
      "cell_type": "markdown",
      "metadata": {},
      "source": [
        "## Final Version"
      ]
    },
    {
      "cell_type": "code",
      "execution_count": 59,
      "metadata": {
        "colab": {
          "base_uri": "https://localhost:8080/"
        },
        "id": "1JmvUVdPg1h3",
        "outputId": "d715078d-3c5f-425e-bc16-39bd412874ca"
      },
      "outputs": [
        {
          "name": "stdout",
          "output_type": "stream",
          "text": [
            "Overwriting validatethreenodes.py\n"
          ]
        }
      ],
      "source": [
        "%%file validatethreenodes.py\n",
        "import pytest\n",
        "from binarysearchtree import *\n",
        "\n",
        "def validateThreeNodes(bst, valueOne, valueTwo, valueThree):\n",
        "    \"\"\"\n",
        "    Checks if the given three nodes have the required relationship in the Binary Search Tree.\n",
        "    \n",
        "    This function validates if either nodeTwo is a descendant of nodeOne and nodeThree is a descendant\n",
        "    of nodeTwo, or if nodeOne is a descendant of nodeTwo and nodeThree is an ascendant of nodeTwo.\n",
        "\n",
        "    Parameters:\n",
        "    bst (BST): he Binary Search Tree containing the nodes.\n",
        "    valueOne (int): The value of the first node.\n",
        "    valueTwo (int): The value of the second node.\n",
        "    valueThree (int): The value of the third node.\n",
        "\n",
        "    Returns:\n",
        "    bool: True if the given nodes have the required relationship, False otherwise.\n",
        "    \"\"\"\n",
        "    # Write your code here.\n",
        "\n",
        "    if not valueOne or not valueTwo or not valueThree:\n",
        "        return False\n",
        "    \n",
        "    def is_descendant(child_value, parent_value):\n",
        "        if child_value == parent_value:\n",
        "            return True\n",
        "        \n",
        "        current_node = bst.root\n",
        "        while current_node:\n",
        "            if current_node.value == parent_value:\n",
        "                break\n",
        "            \n",
        "            if child_value < current_node.value:\n",
        "                current_node = current_node.left_child\n",
        "            else:\n",
        "                current_node = current_node.right_child\n",
        "                \n",
        "        if not current_node:\n",
        "            return False\n",
        "        \n",
        "        #return bst._contains(child_value, current_node)\n",
        "        return bst._contains(current_node, child_value)\n",
        "    \n",
        "    def is_ascendant(parent_value, child_value):\n",
        "        return is_descendant(child_value, parent_value)\n",
        "    \n",
        "    #print(\"Node two is descendant of node one: \", is_descendant(valueTwo, valueOne))\n",
        "    #print(\"Node three is descendant of node two: \", is_descendant(valueThree, valueTwo))\n",
        "    \n",
        "    first_case = False\n",
        "    second_case = False\n",
        "    if is_descendant(valueTwo, valueOne) and is_descendant(valueThree, valueTwo):\n",
        "        first_case = True\n",
        "    \n",
        "    #print(\"Node one is descendant of node two: \", is_descendant(valueOne, valueTwo))\n",
        "    #print(\"Node three is ascendant of node two: \", is_ascendant(valueThree, valueTwo))\n",
        "    if is_descendant(valueOne, valueTwo) and is_ascendant(valueThree, valueTwo):\n",
        "        second_case = True\n",
        "    \n",
        "    #print(\"First case: \", first_case)\n",
        "    #print(\"Second case: \", second_case)\n",
        "    if first_case or second_case:\n",
        "        return True\n",
        "    \n",
        "    return False\n",
        "\n",
        "\n",
        "@pytest.fixture(scope=\"session\")\n",
        "def data():\n",
        "    \n",
        "    array = [[5, 2, 1, 0, 4, 3, 7, 6, 8],\n",
        "             [5, 3, 2, 1, 0, 4, 7, 6, 8],\n",
        "             [5, 3, 2, 1, 0, 4, 7, 6, 8],\n",
        "             [2, 1, 3, 4, 5, 6, 7, 8, 9],\n",
        "             [6, 4, 3, 1, 2, 8, 7, 9],\n",
        "             [2, 1, 3, 4],\n",
        "             [8, 4, 3, 2, 1, 10, 9, 14, 12, 11, 6, 7, 13],\n",
        "             [8, 7, 6, 5, 4, 3, 2, 1, 9],\n",
        "             [3, 2, 1],\n",
        "             [3, 2, 1],\n",
        "             [6, 4, 2, 1, 3, 5, 8, 7, 9],\n",
        "             [10, 6, 5, 3, 1, 2, 4, 8, 7, 9, 15, 14, 13, 11, 12, 18, 17, 16],\n",
        "             [10, 6, 5, 3, 1, 2, 4, 8, 7, 9, 15, 14, 13, 11, 12, 18, 17, 16],\n",
        "             [5, 3, 1, 0, 2, 4, 7, 6, 8],\n",
        "             [5, 3, 1, 0, 2, 4, 7, 6, 8]]\n",
        "    return array\n",
        "\n",
        "def test_1(data):\n",
        "    \"\"\"\n",
        "    Test evaluation for \"nodeOne\": \"5\",\"nodeThree\": \"3\",\"nodeTwo\": \"2\"\n",
        "    \"\"\"\n",
        "    bst = BST()\n",
        "    for value in data[0]:\n",
        "      bst.add(value)\n",
        "    assert validateThreeNodes(bst,5,2,3) == True\n",
        "\n",
        "def test_2(data):\n",
        "    \"\"\"\n",
        "    Test evaluation for \"nodeOne\": \"5\", \"nodeThree\": \"1\", \"nodeTwo\": \"8\",\n",
        "    \"\"\"\n",
        "    bst = BST()\n",
        "    for value in data[1]:\n",
        "      bst.add(value)\n",
        "    assert validateThreeNodes(bst,5,8,1) == False\n",
        "\n",
        "def test_3(data):\n",
        "    \"\"\"\n",
        "    Test evaluation for   \"nodeOne\": \"8\",\"nodeThree\": \"2\",\"nodeTwo\": \"5\",\n",
        "    \"\"\"\n",
        "    bst = BST()\n",
        "    for value in data[2]:\n",
        "      bst.add(value)\n",
        "    assert validateThreeNodes(bst,8,5,2) == False\n",
        "\n",
        "def test_4(data):\n",
        "    \"\"\"\n",
        "    Test evaluation for  \"nodeOne\": \"2\",\"nodeThree\": \"8\",\"nodeTwo\": \"5\"\n",
        "    \"\"\"\n",
        "    bst = BST()\n",
        "    for value in data[3]:\n",
        "      bst.add(value)\n",
        "    assert validateThreeNodes(bst,2,5,8) == True\n",
        "\n",
        "def test_5(data):\n",
        "    \"\"\"\n",
        "    Test evaluation for \"nodeOne\": \"4\", \"nodeThree\": \"2\", \"nodeTwo\": \"1\",\n",
        "    \"\"\"\n",
        "    bst = BST()\n",
        "    for value in data[4]:\n",
        "      bst.add(value)\n",
        "    assert validateThreeNodes(bst,4,1,2) == True\n",
        "\n",
        "def test_6(data):\n",
        "    \"\"\"\n",
        "    Test evaluation for \"nodeOne\": \"1\",\"nodeThree\": \"3\",\"nodeTwo\": \"2\",\n",
        "    \"\"\"\n",
        "    bst = BST()\n",
        "    for value in data[5]:\n",
        "      bst.add(value)\n",
        "    assert validateThreeNodes(bst,1,2,3) == False\n",
        "\n",
        "def test_7(data):\n",
        "    \"\"\"\n",
        "    Test evaluation for \"nodeOne\": \"2\",\"nodeThree\": \"13\",\"nodeTwo\": \"4\"\n",
        "    \"\"\"\n",
        "    bst = BST()\n",
        "    for value in data[6]:\n",
        "      bst.add(value)\n",
        "    assert validateThreeNodes(bst,2,4,13) == False\n",
        "\n",
        "def test_8(data):\n",
        "    \"\"\"\n",
        "    Test evaluation for \"nodeOne\": \"8\",\"nodeThree\": \"1\",\"nodeTwo\": \"7\"\n",
        "    \"\"\"\n",
        "    bst = BST()\n",
        "    for value in data[7]:\n",
        "      bst.add(value)\n",
        "    assert validateThreeNodes(bst,8,7,1) == True\n",
        "\n",
        "def test_9(data):\n",
        "    \"\"\"\n",
        "    Test evaluation for \"nodeOne\": \"2\",\"nodeThree\": \"3\",\"nodeTwo\": \"1\"\n",
        "    \"\"\"\n",
        "    bst = BST()\n",
        "    for value in data[8]:\n",
        "      bst.add(value)\n",
        "    assert validateThreeNodes(bst,2,1,3) == False\n",
        "\n",
        "def test_10(data):\n",
        "    \"\"\"\n",
        "    Test evaluation for \"nodeOne\": \"1\", \"nodeThree\": \"3\", \"nodeTwo\": \"2\"\n",
        "    \"\"\"\n",
        "    bst = BST()\n",
        "    for value in data[9]:\n",
        "      bst.add(value)\n",
        "    assert validateThreeNodes(bst,1,2,3) == True\n",
        "\n",
        "def test_11(data):\n",
        "    \"\"\"\n",
        "    Test evaluation for \"nodeOne\": \"9\",\"nodeThree\": \"6\",\"nodeTwo\": \"8\"\n",
        "    \"\"\"\n",
        "    bst = BST()\n",
        "    for value in data[10]:\n",
        "      bst.add(value)\n",
        "    assert validateThreeNodes(bst,9,8,6) == True\n",
        "\n",
        "def test_12(data):\n",
        "    \"\"\"\n",
        "    Test evaluation for \"nodeOne\": \"12\",\"nodeThree\": \"15\",\"nodeTwo\": \"13\"\n",
        "    \"\"\"\n",
        "    bst = BST()\n",
        "    for value in data[11]:\n",
        "      bst.add(value)\n",
        "    assert validateThreeNodes(bst,12,13,15) == True\n",
        "\n",
        "def test_13(data):\n",
        "    \"\"\"\n",
        "    Test evaluation for \"nodeOne\": \"5\",\"nodeThree\": \"15\",\"nodeTwo\": \"10\"\n",
        "    \"\"\"\n",
        "    bst = BST()\n",
        "    for value in data[12]:\n",
        "      bst.add(value)\n",
        "    assert validateThreeNodes(bst,5,10,15) == False\n",
        "\n",
        "def test_14(data):\n",
        "    \"\"\"\n",
        "    Test evaluation for \"nodeOne\": \"5\",\"nodeThree\": \"4\",\"nodeTwo\": \"3\"\n",
        "    \"\"\"\n",
        "    bst = BST()\n",
        "    for value in data[13]:\n",
        "      bst.add(value)\n",
        "    assert validateThreeNodes(bst,5,3,4) == True\n",
        "\n",
        "def test_15(data):\n",
        "    \"\"\"\n",
        "    Test evaluation for \"nodeOne\": \"5\",\"nodeThree\": \"1\",\"nodeTwo\": \"3\"\n",
        "    \"\"\"\n",
        "    bst = BST()\n",
        "    for value in data[14]:\n",
        "      bst.add(value)\n",
        "    assert validateThreeNodes(bst,5,3,1) == True"
      ]
    },
    {
      "cell_type": "code",
      "execution_count": 60,
      "metadata": {
        "id": "dhvDBndf-pVR"
      },
      "outputs": [
        {
          "name": "stdout",
          "output_type": "stream",
          "text": [
            "============================= test session starts =============================\n",
            "platform win32 -- Python 3.9.6, pytest-7.1.2, pluggy-1.0.0 -- C:\\users\\j_mar\\appdata\\local\\programs\\python\\python39\\python.exe\n",
            "cachedir: .pytest_cache\n",
            "rootdir: c:\\Users\\j_mar\\Desktop\\GitHub\\data-structure2023.1\\tasks\\week06\n",
            "plugins: dash-2.0.0, sugar-0.9.7\n",
            "collecting ... collected 15 items\n",
            "\n",
            "validatethreenodes.py::test_1 PASSED                                     [  6%]\n",
            "validatethreenodes.py::test_2 PASSED                                     [ 13%]\n",
            "validatethreenodes.py::test_3 PASSED                                     [ 20%]\n",
            "validatethreenodes.py::test_4 PASSED                                     [ 26%]\n",
            "validatethreenodes.py::test_5 PASSED                                     [ 33%]\n",
            "validatethreenodes.py::test_6 PASSED                                     [ 40%]\n",
            "validatethreenodes.py::test_7 PASSED                                     [ 46%]\n",
            "validatethreenodes.py::test_8 PASSED                                     [ 53%]\n",
            "validatethreenodes.py::test_9 PASSED                                     [ 60%]\n",
            "validatethreenodes.py::test_10 PASSED                                    [ 66%]\n",
            "validatethreenodes.py::test_11 PASSED                                    [ 73%]\n",
            "validatethreenodes.py::test_12 PASSED                                    [ 80%]\n",
            "validatethreenodes.py::test_13 PASSED                                    [ 86%]\n",
            "validatethreenodes.py::test_14 PASSED                                    [ 93%]\n",
            "validatethreenodes.py::test_15 PASSED                                    [100%]\n",
            "\n",
            "============================= 15 passed in 0.05s ==============================\n"
          ]
        }
      ],
      "source": [
        "!pytest validatethreenodes.py -vv"
      ]
    }
  ],
  "metadata": {
    "colab": {
      "provenance": []
    },
    "kernelspec": {
      "display_name": "Python 3",
      "name": "python3"
    },
    "language_info": {
      "codemirror_mode": {
        "name": "ipython",
        "version": 3
      },
      "file_extension": ".py",
      "mimetype": "text/x-python",
      "name": "python",
      "nbconvert_exporter": "python",
      "pygments_lexer": "ipython3",
      "version": "3.9.6"
    }
  },
  "nbformat": 4,
  "nbformat_minor": 0
}
